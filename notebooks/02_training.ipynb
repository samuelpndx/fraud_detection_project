{
 "cells": [
  {
   "cell_type": "code",
   "execution_count": null,
   "metadata": {
    "trusted": true
   },
   "outputs": [],
   "source": [
    "# ! pip install scikit-learn==1.5.2"
   ]
  },
  {
   "cell_type": "code",
   "execution_count": null,
   "metadata": {
    "trusted": true
   },
   "outputs": [],
   "source": [
    "# ! pip install imbalanced-learn "
   ]
  },
  {
   "cell_type": "code",
   "execution_count": null,
   "metadata": {},
   "outputs": [],
   "source": [
    "# ! pip install optuna"
   ]
  },
  {
   "cell_type": "code",
   "execution_count": null,
   "metadata": {
    "execution": {
     "iopub.execute_input": "2025-04-23T20:45:12.617062Z",
     "iopub.status.busy": "2025-04-23T20:45:12.616825Z",
     "iopub.status.idle": "2025-04-23T20:45:16.211191Z",
     "shell.execute_reply": "2025-04-23T20:45:16.210514Z",
     "shell.execute_reply.started": "2025-04-23T20:45:12.617040Z"
    },
    "trusted": true
   },
   "outputs": [],
   "source": [
    "# %load_ext cuml.accel"
   ]
  },
  {
   "cell_type": "code",
   "execution_count": null,
   "metadata": {
    "execution": {
     "iopub.execute_input": "2025-04-23T20:45:21.093385Z",
     "iopub.status.busy": "2025-04-23T20:45:21.092613Z",
     "iopub.status.idle": "2025-04-23T20:45:21.097008Z",
     "shell.execute_reply": "2025-04-23T20:45:21.096050Z",
     "shell.execute_reply.started": "2025-04-23T20:45:21.093342Z"
    },
    "trusted": true
   },
   "outputs": [],
   "source": [
    "# import sklearn\n",
    "# print(sklearn.__version__)"
   ]
  },
  {
   "cell_type": "code",
   "execution_count": null,
   "metadata": {
    "execution": {
     "iopub.execute_input": "2025-04-23T20:45:21.296607Z",
     "iopub.status.busy": "2025-04-23T20:45:21.295858Z",
     "iopub.status.idle": "2025-04-23T20:45:21.299993Z",
     "shell.execute_reply": "2025-04-23T20:45:21.299267Z",
     "shell.execute_reply.started": "2025-04-23T20:45:21.296574Z"
    },
    "trusted": true
   },
   "outputs": [],
   "source": [
    "# import imblearn\n",
    "# print(imblearn.__version__)"
   ]
  },
  {
   "cell_type": "code",
   "execution_count": 1,
   "metadata": {
    "_cell_guid": "b1076dfc-b9ad-4769-8c92-a6c4dae69d19",
    "_uuid": "8f2839f25d086af736a60e9eeb907d3b93b6e0e5",
    "execution": {
     "iopub.execute_input": "2025-04-23T22:07:53.620257Z",
     "iopub.status.busy": "2025-04-23T22:07:53.619428Z",
     "iopub.status.idle": "2025-04-23T22:07:53.624719Z",
     "shell.execute_reply": "2025-04-23T22:07:53.623920Z",
     "shell.execute_reply.started": "2025-04-23T22:07:53.620228Z"
    },
    "trusted": true
   },
   "outputs": [],
   "source": [
    "import pandas as pd\n",
    "import numpy as np\n",
    "from sklearn.model_selection import train_test_split\n",
    "from sklearn.preprocessing import StandardScaler\n",
    "from sklearn.model_selection import StratifiedKFold\n",
    "from xgboost import XGBClassifier\n",
    "from sklearn.model_selection import cross_val_score\n",
    "from sklearn.metrics import(confusion_matrix,\n",
    "                            recall_score,\n",
    "                            precision_score,\n",
    "                            f1_score,\n",
    "                            accuracy_score,\n",
    "                            average_precision_score, \n",
    "                            make_scorer,\n",
    "                            fbeta_score)\n",
    "import optuna\n",
    "from imblearn.pipeline import Pipeline\n",
    "from imblearn.over_sampling import SMOTE, ADASYN, RandomOverSampler\n",
    "import pickle"
   ]
  },
  {
   "cell_type": "code",
   "execution_count": 2,
   "metadata": {
    "execution": {
     "iopub.execute_input": "2025-04-23T21:46:53.976841Z",
     "iopub.status.busy": "2025-04-23T21:46:53.976596Z",
     "iopub.status.idle": "2025-04-23T21:46:55.554820Z",
     "shell.execute_reply": "2025-04-23T21:46:55.554239Z",
     "shell.execute_reply.started": "2025-04-23T21:46:53.976826Z"
    },
    "trusted": true
   },
   "outputs": [],
   "source": [
    "df = pd.read_csv('../data/creditcard.csv')"
   ]
  },
  {
   "cell_type": "code",
   "execution_count": 3,
   "metadata": {
    "execution": {
     "iopub.execute_input": "2025-04-23T21:46:55.556253Z",
     "iopub.status.busy": "2025-04-23T21:46:55.555997Z",
     "iopub.status.idle": "2025-04-23T21:46:56.012574Z",
     "shell.execute_reply": "2025-04-23T21:46:56.011995Z",
     "shell.execute_reply.started": "2025-04-23T21:46:55.556227Z"
    },
    "trusted": true
   },
   "outputs": [],
   "source": [
    "df.drop_duplicates(inplace=True)"
   ]
  },
  {
   "cell_type": "code",
   "execution_count": 4,
   "metadata": {
    "execution": {
     "iopub.execute_input": "2025-04-23T21:46:56.013502Z",
     "iopub.status.busy": "2025-04-23T21:46:56.013287Z",
     "iopub.status.idle": "2025-04-23T21:46:56.038410Z",
     "shell.execute_reply": "2025-04-23T21:46:56.037636Z",
     "shell.execute_reply.started": "2025-04-23T21:46:56.013487Z"
    },
    "trusted": true
   },
   "outputs": [],
   "source": [
    "X = df.drop(columns=['Time', 'Class'], axis=1)\n",
    "y = df['Class']"
   ]
  },
  {
   "cell_type": "code",
   "execution_count": 5,
   "metadata": {
    "execution": {
     "iopub.execute_input": "2025-04-23T21:46:56.040241Z",
     "iopub.status.busy": "2025-04-23T21:46:56.040026Z",
     "iopub.status.idle": "2025-04-23T21:46:56.192330Z",
     "shell.execute_reply": "2025-04-23T21:46:56.191791Z",
     "shell.execute_reply.started": "2025-04-23T21:46:56.040225Z"
    },
    "trusted": true
   },
   "outputs": [],
   "source": [
    "X_train, X_test, y_train, y_test = train_test_split(X,\n",
    "                                                    y,\n",
    "                                                    stratify=y,\n",
    "                                                    test_size=0.3,\n",
    "                                                    random_state=42)"
   ]
  },
  {
   "cell_type": "code",
   "execution_count": 6,
   "metadata": {
    "execution": {
     "iopub.execute_input": "2025-04-23T21:46:56.193273Z",
     "iopub.status.busy": "2025-04-23T21:46:56.193017Z",
     "iopub.status.idle": "2025-04-23T21:46:56.197272Z",
     "shell.execute_reply": "2025-04-23T21:46:56.196746Z",
     "shell.execute_reply.started": "2025-04-23T21:46:56.193252Z"
    },
    "trusted": true
   },
   "outputs": [],
   "source": [
    "scaler = StandardScaler()\n",
    "X_train['Amount'] = scaler.fit_transform(X_train['Amount'].values.reshape(-1, 1))\n",
    "X_test['Amount'] = scaler.transform(X_test['Amount'].values.reshape(-1, 1))"
   ]
  },
  {
   "cell_type": "code",
   "execution_count": 7,
   "metadata": {},
   "outputs": [],
   "source": [
    "# X_test.to_csv('../data/X_test.csv', index=False)\n",
    "# y_test.to_csv('../data/y_test.csv', index=False)"
   ]
  },
  {
   "cell_type": "code",
   "execution_count": 8,
   "metadata": {
    "execution": {
     "iopub.execute_input": "2025-04-23T21:47:07.634117Z",
     "iopub.status.busy": "2025-04-23T21:47:07.633430Z",
     "iopub.status.idle": "2025-04-23T21:47:07.637430Z",
     "shell.execute_reply": "2025-04-23T21:47:07.636744Z",
     "shell.execute_reply.started": "2025-04-23T21:47:07.634091Z"
    },
    "trusted": true
   },
   "outputs": [],
   "source": [
    "kf = StratifiedKFold(n_splits=5, shuffle=False)"
   ]
  },
  {
   "cell_type": "code",
   "execution_count": 9,
   "metadata": {
    "execution": {
     "iopub.execute_input": "2025-04-23T21:47:08.056431Z",
     "iopub.status.busy": "2025-04-23T21:47:08.056191Z",
     "iopub.status.idle": "2025-04-23T21:47:08.060078Z",
     "shell.execute_reply": "2025-04-23T21:47:08.059413Z",
     "shell.execute_reply.started": "2025-04-23T21:47:08.056414Z"
    },
    "trusted": true
   },
   "outputs": [],
   "source": [
    "def create_sampler(name):\n",
    "    if name == 'smote':\n",
    "        return SMOTE()\n",
    "    elif name == 'adasyn':\n",
    "        return ADASYN()\n",
    "    elif name == 'ros':\n",
    "        return RandomOverSampler()\n",
    "    return None"
   ]
  },
  {
   "cell_type": "code",
   "execution_count": 16,
   "metadata": {
    "execution": {
     "iopub.execute_input": "2025-04-23T22:08:04.995734Z",
     "iopub.status.busy": "2025-04-23T22:08:04.995478Z",
     "iopub.status.idle": "2025-04-23T22:08:05.001494Z",
     "shell.execute_reply": "2025-04-23T22:08:05.000768Z",
     "shell.execute_reply.started": "2025-04-23T22:08:04.995715Z"
    },
    "trusted": true
   },
   "outputs": [],
   "source": [
    "def objective(trial):\n",
    "    sampler_name = trial.suggest_categorical('sampler', ['smote', 'adasyn', 'ros'])\n",
    "    sampler = create_sampler(sampler_name)\n",
    "    \n",
    "    param = {\n",
    "        'n_estimators': trial.suggest_int('n_estimators', 50, 300),\n",
    "        'max_depth': trial.suggest_int('max_depth', 3, 10),\n",
    "        'learning_rate': trial.suggest_float('learning_rate', 0.01, 0.3),\n",
    "        'subsample': trial.suggest_float('subsample', 0.5, 1.0),\n",
    "        'colsample_bytree': trial.suggest_float('colsample_bytree', 0.5, 1.0),\n",
    "        'scale_pos_weight': trial.suggest_float('scale_pos_weight', 1.0, 100.0),  # Important for imbalance\n",
    "        'eval_metric': 'aucpr'\n",
    "    }\n",
    "\n",
    "    model =  XGBClassifier(**param,  n_jobs=-1, random_state=42)\n",
    "    \n",
    "    pipeline = Pipeline([\n",
    "        ('sampler', sampler),\n",
    "        ('classifier', model)\n",
    "    ])\n",
    "    \n",
    "    # ap_scorer = make_scorer(average_precision_score, needs_proba=True)\n",
    "    f2_scorer = make_scorer(fbeta_score, beta=2)\n",
    "    score = cross_val_score(pipeline, X_train, y_train, cv=kf, scoring=f2_scorer, n_jobs=-1)\n",
    "    \n",
    "    return np.mean(score)"
   ]
  },
  {
   "cell_type": "code",
   "execution_count": 17,
   "metadata": {
    "execution": {
     "iopub.execute_input": "2025-04-23T22:08:05.107096Z",
     "iopub.status.busy": "2025-04-23T22:08:05.106900Z",
     "iopub.status.idle": "2025-04-23T22:17:37.303835Z",
     "shell.execute_reply": "2025-04-23T22:17:37.303049Z",
     "shell.execute_reply.started": "2025-04-23T22:08:05.107081Z"
    },
    "scrolled": true,
    "trusted": true
   },
   "outputs": [
    {
     "name": "stderr",
     "output_type": "stream",
     "text": [
      "[I 2025-04-23 21:46:11,019] A new study created in memory with name: no-name-5ce8c59b-a546-4e5a-b153-d6390d3a57f8\n"
     ]
    },
    {
     "data": {
      "application/vnd.jupyter.widget-view+json": {
       "model_id": "d020e0d5954d4239be0fa5773e2848a3",
       "version_major": 2,
       "version_minor": 0
      },
      "text/plain": [
       "  0%|          | 0/50 [00:00<?, ?it/s]"
      ]
     },
     "metadata": {},
     "output_type": "display_data"
    },
    {
     "name": "stdout",
     "output_type": "stream",
     "text": [
      "[I 2025-04-23 21:46:40,164] Trial 11 finished with value: 0.7047109005303214 and parameters: {'sampler': 'smote', 'n_estimators': 68, 'max_depth': 7, 'learning_rate': 0.2183500822960661, 'subsample': 0.7155427254113613, 'colsample_bytree': 0.773045145968121, 'scale_pos_weight': 78.44724359570425}. Best is trial 11 with value: 0.7047109005303214.\n",
      "[I 2025-04-23 21:47:03,919] Trial 14 finished with value: 0.7521565217484111 and parameters: {'sampler': 'adasyn', 'n_estimators': 62, 'max_depth': 9, 'learning_rate': 0.27131119392321634, 'subsample': 0.7515496626265852, 'colsample_bytree': 0.92192418102339, 'scale_pos_weight': 82.25186316963257}. Best is trial 14 with value: 0.7521565217484111.\n",
      "[I 2025-04-23 21:47:17,485] Trial 7 finished with value: 0.05658519045747858 and parameters: {'sampler': 'smote', 'n_estimators': 68, 'max_depth': 3, 'learning_rate': 0.10202449792347754, 'subsample': 0.8421337808136082, 'colsample_bytree': 0.8342033722901179, 'scale_pos_weight': 70.15027387574595}. Best is trial 14 with value: 0.7521565217484111.\n",
      "[I 2025-04-23 21:47:38,676] Trial 12 finished with value: 0.6113767703492621 and parameters: {'sampler': 'ros', 'n_estimators': 82, 'max_depth': 7, 'learning_rate': 0.06570043617582572, 'subsample': 0.8994136185099522, 'colsample_bytree': 0.6557810476835341, 'scale_pos_weight': 59.211314454026876}. Best is trial 14 with value: 0.7521565217484111.\n",
      "[I 2025-04-23 21:47:58,584] Trial 8 finished with value: 0.7962937048019814 and parameters: {'sampler': 'ros', 'n_estimators': 181, 'max_depth': 6, 'learning_rate': 0.041564787412681686, 'subsample': 0.7074768148780533, 'colsample_bytree': 0.6871446171279807, 'scale_pos_weight': 2.060996010244512}. Best is trial 8 with value: 0.7962937048019814.\n",
      "[I 2025-04-23 21:48:15,065] Trial 15 finished with value: 0.7706397232419991 and parameters: {'sampler': 'smote', 'n_estimators': 114, 'max_depth': 7, 'learning_rate': 0.15857036443766823, 'subsample': 0.8994626993154451, 'colsample_bytree': 0.8688918997690902, 'scale_pos_weight': 19.95676169316065}. Best is trial 8 with value: 0.7962937048019814.\n",
      "[I 2025-04-23 21:48:18,035] Trial 13 finished with value: 0.7477813909926736 and parameters: {'sampler': 'adasyn', 'n_estimators': 84, 'max_depth': 9, 'learning_rate': 0.16907354849000025, 'subsample': 0.6561781344688136, 'colsample_bytree': 0.9633327427246174, 'scale_pos_weight': 53.52710456263219}. Best is trial 8 with value: 0.7962937048019814.\n",
      "[I 2025-04-23 21:48:25,882] Trial 2 finished with value: 0.11059005849271049 and parameters: {'sampler': 'smote', 'n_estimators': 145, 'max_depth': 5, 'learning_rate': 0.013854921937036047, 'subsample': 0.8616893175987208, 'colsample_bytree': 0.5112432768285138, 'scale_pos_weight': 7.299867583268527}. Best is trial 8 with value: 0.7962937048019814.\n",
      "[I 2025-04-23 21:48:29,925] Trial 9 finished with value: 0.84691269957338 and parameters: {'sampler': 'ros', 'n_estimators': 291, 'max_depth': 5, 'learning_rate': 0.23688410747808242, 'subsample': 0.9567768347659442, 'colsample_bytree': 0.9483827159371434, 'scale_pos_weight': 91.8649242976075}. Best is trial 9 with value: 0.84691269957338.\n",
      "[I 2025-04-23 21:48:30,979] Trial 6 finished with value: 0.8062778169757632 and parameters: {'sampler': 'adasyn', 'n_estimators': 159, 'max_depth': 9, 'learning_rate': 0.23945179746611633, 'subsample': 0.6342974653652615, 'colsample_bytree': 0.5340253231228976, 'scale_pos_weight': 23.371566422022756}. Best is trial 9 with value: 0.84691269957338.\n",
      "[I 2025-04-23 21:48:43,463] Trial 5 finished with value: 0.14789631487791272 and parameters: {'sampler': 'adasyn', 'n_estimators': 105, 'max_depth': 3, 'learning_rate': 0.15087261055716056, 'subsample': 0.7181168837083186, 'colsample_bytree': 0.8641534640845459, 'scale_pos_weight': 44.042356399522475}. Best is trial 9 with value: 0.84691269957338.\n",
      "[I 2025-04-23 21:48:47,152] Trial 0 finished with value: 0.7773635066906606 and parameters: {'sampler': 'adasyn', 'n_estimators': 101, 'max_depth': 10, 'learning_rate': 0.2650347192729278, 'subsample': 0.9124725154847844, 'colsample_bytree': 0.9639174820319529, 'scale_pos_weight': 95.6514766015118}. Best is trial 9 with value: 0.84691269957338.\n",
      "[I 2025-04-23 21:48:57,834] Trial 10 finished with value: 0.10207642996399298 and parameters: {'sampler': 'smote', 'n_estimators': 239, 'max_depth': 4, 'learning_rate': 0.03319817656217322, 'subsample': 0.8755906122200539, 'colsample_bytree': 0.752269633634249, 'scale_pos_weight': 85.0869539811538}. Best is trial 9 with value: 0.84691269957338.\n",
      "[I 2025-04-23 21:48:58,586] Trial 3 finished with value: 0.7622224848018005 and parameters: {'sampler': 'adasyn', 'n_estimators': 291, 'max_depth': 4, 'learning_rate': 0.19986441545106745, 'subsample': 0.9542450985282576, 'colsample_bytree': 0.9164454030229031, 'scale_pos_weight': 48.353384926122935}. Best is trial 9 with value: 0.84691269957338.\n",
      "[I 2025-04-23 21:49:00,931] Trial 4 finished with value: 0.8441820152754775 and parameters: {'sampler': 'ros', 'n_estimators': 173, 'max_depth': 8, 'learning_rate': 0.1736222891352731, 'subsample': 0.7810183574879471, 'colsample_bytree': 0.7334718058897929, 'scale_pos_weight': 83.83537635418023}. Best is trial 9 with value: 0.84691269957338.\n",
      "[I 2025-04-23 21:49:11,389] Trial 1 finished with value: 0.6772280827078758 and parameters: {'sampler': 'adasyn', 'n_estimators': 172, 'max_depth': 7, 'learning_rate': 0.0830193951708549, 'subsample': 0.8304399023735873, 'colsample_bytree': 0.8136300015527504, 'scale_pos_weight': 87.16328874490476}. Best is trial 9 with value: 0.84691269957338.\n",
      "[I 2025-04-23 21:49:12,901] Trial 16 finished with value: 0.24462459276839826 and parameters: {'sampler': 'adasyn', 'n_estimators': 254, 'max_depth': 3, 'learning_rate': 0.09977752292594104, 'subsample': 0.5034824777369118, 'colsample_bytree': 0.5269488872345778, 'scale_pos_weight': 50.89381916598207}. Best is trial 9 with value: 0.84691269957338.\n",
      "[I 2025-04-23 21:49:17,932] Trial 17 finished with value: 0.403689218243802 and parameters: {'sampler': 'adasyn', 'n_estimators': 66, 'max_depth': 7, 'learning_rate': 0.13853611981655134, 'subsample': 0.516341342867823, 'colsample_bytree': 0.7979526894836677, 'scale_pos_weight': 96.33364376790286}. Best is trial 9 with value: 0.84691269957338.\n",
      "[I 2025-04-23 21:49:34,774] Trial 20 finished with value: 0.8423544352391108 and parameters: {'sampler': 'ros', 'n_estimators': 67, 'max_depth': 9, 'learning_rate': 0.1607066397756414, 'subsample': 0.9253567722103413, 'colsample_bytree': 0.586424787678721, 'scale_pos_weight': 9.010223054578727}. Best is trial 9 with value: 0.84691269957338.\n",
      "[I 2025-04-23 21:49:42,725] Trial 18 finished with value: 0.7875449165537046 and parameters: {'sampler': 'adasyn', 'n_estimators': 131, 'max_depth': 9, 'learning_rate': 0.23144027377199303, 'subsample': 0.9956412376859204, 'colsample_bytree': 0.9179073775181121, 'scale_pos_weight': 83.27018163023166}. Best is trial 9 with value: 0.84691269957338.\n",
      "[I 2025-04-23 21:50:04,043] Trial 21 finished with value: 0.6272685746132973 and parameters: {'sampler': 'ros', 'n_estimators': 193, 'max_depth': 5, 'learning_rate': 0.053982596078321746, 'subsample': 0.636989978189394, 'colsample_bytree': 0.9022412872577926, 'scale_pos_weight': 88.87124331105474}. Best is trial 9 with value: 0.84691269957338.\n",
      "[I 2025-04-23 21:50:08,575] Trial 19 finished with value: 0.830292197361533 and parameters: {'sampler': 'smote', 'n_estimators': 283, 'max_depth': 10, 'learning_rate': 0.2041489965244413, 'subsample': 0.7073203600328669, 'colsample_bytree': 0.6300643303439863, 'scale_pos_weight': 2.48717699431355}. Best is trial 9 with value: 0.84691269957338.\n",
      "[I 2025-04-23 21:50:21,318] Trial 22 finished with value: 0.8181341079801998 and parameters: {'sampler': 'adasyn', 'n_estimators': 207, 'max_depth': 8, 'learning_rate': 0.2373497483484591, 'subsample': 0.8172162686822669, 'colsample_bytree': 0.7642249112166004, 'scale_pos_weight': 3.5368572335251045}. Best is trial 9 with value: 0.84691269957338.\n",
      "[I 2025-04-23 21:50:22,093] Trial 23 finished with value: 0.6392587847536836 and parameters: {'sampler': 'smote', 'n_estimators': 96, 'max_depth': 5, 'learning_rate': 0.21971727180474837, 'subsample': 0.5194350431543773, 'colsample_bytree': 0.579994156434742, 'scale_pos_weight': 56.722171985175876}. Best is trial 9 with value: 0.84691269957338.\n",
      "[I 2025-04-23 21:50:24,832] Trial 24 finished with value: 0.19210847815110935 and parameters: {'sampler': 'ros', 'n_estimators': 147, 'max_depth': 3, 'learning_rate': 0.07790023575810669, 'subsample': 0.6103251600032129, 'colsample_bytree': 0.8024416246264835, 'scale_pos_weight': 92.17929447720464}. Best is trial 9 with value: 0.84691269957338.\n",
      "[I 2025-04-23 21:50:48,191] Trial 25 finished with value: 0.8392030800712256 and parameters: {'sampler': 'ros', 'n_estimators': 298, 'max_depth': 3, 'learning_rate': 0.29773878678619226, 'subsample': 0.9944382691338874, 'colsample_bytree': 0.9870213609314593, 'scale_pos_weight': 98.60890369593255}. Best is trial 9 with value: 0.84691269957338.\n",
      "[I 2025-04-23 21:51:01,266] Trial 27 finished with value: 0.8443266392395554 and parameters: {'sampler': 'ros', 'n_estimators': 257, 'max_depth': 5, 'learning_rate': 0.22760827814926515, 'subsample': 0.5178214675909407, 'colsample_bytree': 0.5222011987241248, 'scale_pos_weight': 31.48071964609924}. Best is trial 9 with value: 0.84691269957338.\n",
      "[I 2025-04-23 21:51:02,277] Trial 26 finished with value: 0.8479413969440565 and parameters: {'sampler': 'ros', 'n_estimators': 272, 'max_depth': 10, 'learning_rate': 0.29920268902264757, 'subsample': 0.5031681013857947, 'colsample_bytree': 0.5011981432014985, 'scale_pos_weight': 99.07499595228849}. Best is trial 26 with value: 0.8479413969440565.\n",
      "[I 2025-04-23 21:51:23,715] Trial 28 finished with value: 0.843748327774086 and parameters: {'sampler': 'ros', 'n_estimators': 297, 'max_depth': 5, 'learning_rate': 0.22776451685168325, 'subsample': 0.513740837676127, 'colsample_bytree': 0.5190820723901345, 'scale_pos_weight': 34.08557672874765}. Best is trial 26 with value: 0.8479413969440565.\n",
      "[I 2025-04-23 21:51:27,800] Trial 29 finished with value: 0.846489905656173 and parameters: {'sampler': 'ros', 'n_estimators': 189, 'max_depth': 8, 'learning_rate': 0.2945034612838539, 'subsample': 0.5122771849625262, 'colsample_bytree': 0.5367900351511662, 'scale_pos_weight': 30.32308001931502}. Best is trial 26 with value: 0.8479413969440565.\n",
      "[I 2025-04-23 21:51:33,925] Trial 30 finished with value: 0.843909665510927 and parameters: {'sampler': 'ros', 'n_estimators': 211, 'max_depth': 6, 'learning_rate': 0.2933632827616082, 'subsample': 0.5528932810572157, 'colsample_bytree': 0.6464889573102369, 'scale_pos_weight': 98.81639492902102}. Best is trial 26 with value: 0.8479413969440565.\n",
      "[I 2025-04-23 21:51:51,597] Trial 31 finished with value: 0.842809615897712 and parameters: {'sampler': 'ros', 'n_estimators': 211, 'max_depth': 6, 'learning_rate': 0.2919461204019463, 'subsample': 0.548675272732139, 'colsample_bytree': 0.6692479787970262, 'scale_pos_weight': 99.46216661567973}. Best is trial 26 with value: 0.8479413969440565.\n",
      "[I 2025-04-23 21:52:01,036] Trial 32 finished with value: 0.8442578766594145 and parameters: {'sampler': 'ros', 'n_estimators': 218, 'max_depth': 6, 'learning_rate': 0.29808931424786617, 'subsample': 0.9679911358081934, 'colsample_bytree': 0.6715912901747587, 'scale_pos_weight': 96.06989104621505}. Best is trial 26 with value: 0.8479413969440565.\n",
      "[I 2025-04-23 21:52:02,387] Trial 33 finished with value: 0.8422073098200743 and parameters: {'sampler': 'ros', 'n_estimators': 203, 'max_depth': 5, 'learning_rate': 0.29655150841967937, 'subsample': 0.9805603748722828, 'colsample_bytree': 0.664571733219943, 'scale_pos_weight': 67.37858010895391}. Best is trial 26 with value: 0.8479413969440565.\n",
      "[I 2025-04-23 21:52:19,503] Trial 34 finished with value: 0.8382641166243507 and parameters: {'sampler': 'ros', 'n_estimators': 212, 'max_depth': 5, 'learning_rate': 0.296673047169334, 'subsample': 0.7938822277294372, 'colsample_bytree': 0.7032343390759798, 'scale_pos_weight': 66.61875407570955}. Best is trial 26 with value: 0.8479413969440565.\n",
      "[I 2025-04-23 21:52:28,534] Trial 35 finished with value: 0.8474379411962017 and parameters: {'sampler': 'ros', 'n_estimators': 197, 'max_depth': 6, 'learning_rate': 0.28949703104123287, 'subsample': 0.7964715626993716, 'colsample_bytree': 0.6985990418696725, 'scale_pos_weight': 66.94928277297379}. Best is trial 26 with value: 0.8479413969440565.\n",
      "[I 2025-04-23 21:52:39,405] Trial 36 finished with value: 0.8420630177995816 and parameters: {'sampler': 'ros', 'n_estimators': 217, 'max_depth': 8, 'learning_rate': 0.18757273422080104, 'subsample': 0.789011550308113, 'colsample_bytree': 0.5992623827240602, 'scale_pos_weight': 35.87449043493899}. Best is trial 26 with value: 0.8479413969440565.\n",
      "[I 2025-04-23 21:52:48,889] Trial 37 finished with value: 0.843155919686042 and parameters: {'sampler': 'ros', 'n_estimators': 208, 'max_depth': 8, 'learning_rate': 0.2996262719007404, 'subsample': 0.7881782447231162, 'colsample_bytree': 0.5765724020506919, 'scale_pos_weight': 67.7805291734726}. Best is trial 26 with value: 0.8479413969440565.\n",
      "[I 2025-04-23 21:53:07,174] Trial 38 finished with value: 0.8473217079915839 and parameters: {'sampler': 'ros', 'n_estimators': 221, 'max_depth': 8, 'learning_rate': 0.18292468244532273, 'subsample': 0.9957427679733962, 'colsample_bytree': 0.5847551112100257, 'scale_pos_weight': 69.55121439530933}. Best is trial 26 with value: 0.8479413969440565.\n",
      "[I 2025-04-23 21:53:22,459] Trial 39 finished with value: 0.8476520420037781 and parameters: {'sampler': 'ros', 'n_estimators': 238, 'max_depth': 8, 'learning_rate': 0.18155063288745343, 'subsample': 0.996964191726544, 'colsample_bytree': 0.7062995104847439, 'scale_pos_weight': 68.11275116681846}. Best is trial 26 with value: 0.8479413969440565.\n",
      "[I 2025-04-23 21:53:23,641] Trial 40 finished with value: 0.8529869719433311 and parameters: {'sampler': 'ros', 'n_estimators': 223, 'max_depth': 8, 'learning_rate': 0.179168559852206, 'subsample': 0.7811228540129369, 'colsample_bytree': 0.7127860643930117, 'scale_pos_weight': 70.40383670651536}. Best is trial 40 with value: 0.8529869719433311.\n",
      "[I 2025-04-23 21:53:47,551] Trial 41 finished with value: 0.8462320409182548 and parameters: {'sampler': 'ros', 'n_estimators': 222, 'max_depth': 8, 'learning_rate': 0.18499428215520403, 'subsample': 0.9468047933570022, 'colsample_bytree': 0.6847585554069099, 'scale_pos_weight': 72.4932806524501}. Best is trial 40 with value: 0.8529869719433311.\n",
      "[I 2025-04-23 21:53:54,410] Trial 42 finished with value: 0.8499622089385115 and parameters: {'sampler': 'ros', 'n_estimators': 225, 'max_depth': 6, 'learning_rate': 0.1873507913255439, 'subsample': 0.7777581822859315, 'colsample_bytree': 0.7212146131710448, 'scale_pos_weight': 38.68538720737643}. Best is trial 40 with value: 0.8529869719433311.\n",
      "[I 2025-04-23 21:54:00,401] Trial 43 finished with value: 0.8473428023319751 and parameters: {'sampler': 'ros', 'n_estimators': 268, 'max_depth': 6, 'learning_rate': 0.2985750457615125, 'subsample': 0.5684903256828104, 'colsample_bytree': 0.5595526836483117, 'scale_pos_weight': 37.04068405668015}. Best is trial 40 with value: 0.8529869719433311.\n",
      "[I 2025-04-23 21:54:18,923] Trial 44 finished with value: 0.8407510829178728 and parameters: {'sampler': 'ros', 'n_estimators': 262, 'max_depth': 6, 'learning_rate': 0.2627359333832367, 'subsample': 0.5864737307898951, 'colsample_bytree': 0.5695048267001839, 'scale_pos_weight': 70.10504288517494}. Best is trial 40 with value: 0.8529869719433311.\n",
      "[I 2025-04-23 21:54:28,363] Trial 45 finished with value: 0.8457835092309779 and parameters: {'sampler': 'ros', 'n_estimators': 226, 'max_depth': 10, 'learning_rate': 0.2983658858844518, 'subsample': 0.564613300315646, 'colsample_bytree': 0.5671524301116252, 'scale_pos_weight': 71.10368646176883}. Best is trial 40 with value: 0.8529869719433311.\n",
      "[I 2025-04-23 21:54:38,621] Trial 46 finished with value: 0.84997645198914 and parameters: {'sampler': 'ros', 'n_estimators': 266, 'max_depth': 10, 'learning_rate': 0.26834565202888655, 'subsample': 0.5790652105741236, 'colsample_bytree': 0.5474353840479713, 'scale_pos_weight': 35.436333815840776}. Best is trial 40 with value: 0.8529869719433311.\n",
      "[I 2025-04-23 21:54:47,552] Trial 47 finished with value: 0.8449898081290101 and parameters: {'sampler': 'ros', 'n_estimators': 266, 'max_depth': 10, 'learning_rate': 0.2691610089444403, 'subsample': 0.5795820185443057, 'colsample_bytree': 0.5666006395238791, 'scale_pos_weight': 34.12685876542366}. Best is trial 40 with value: 0.8529869719433311.\n",
      "[I 2025-04-23 21:54:53,934] Trial 48 finished with value: 0.8478441557244574 and parameters: {'sampler': 'ros', 'n_estimators': 270, 'max_depth': 10, 'learning_rate': 0.26975640052123434, 'subsample': 0.5667839774357939, 'colsample_bytree': 0.577714601721122, 'scale_pos_weight': 33.98870492224363}. Best is trial 40 with value: 0.8529869719433311.\n",
      "[I 2025-04-23 21:54:57,963] Trial 49 finished with value: 0.8442300231854196 and parameters: {'sampler': 'ros', 'n_estimators': 270, 'max_depth': 10, 'learning_rate': 0.2649578897308566, 'subsample': 0.5700774818788676, 'colsample_bytree': 0.5608153046310942, 'scale_pos_weight': 37.99289062179395}. Best is trial 40 with value: 0.8529869719433311.\n"
     ]
    }
   ],
   "source": [
    "study = optuna.create_study(direction='maximize')\n",
    "study.optimize(objective, n_trials=50, show_progress_bar=True, n_jobs=-1)"
   ]
  },
  {
   "cell_type": "code",
   "execution_count": 18,
   "metadata": {
    "execution": {
     "iopub.execute_input": "2025-04-23T22:21:26.366386Z",
     "iopub.status.busy": "2025-04-23T22:21:26.365689Z",
     "iopub.status.idle": "2025-04-23T22:21:26.370994Z",
     "shell.execute_reply": "2025-04-23T22:21:26.370430Z",
     "shell.execute_reply.started": "2025-04-23T22:21:26.366337Z"
    },
    "trusted": true
   },
   "outputs": [
    {
     "data": {
      "text/plain": [
       "{'sampler': 'ros',\n",
       " 'n_estimators': 223,\n",
       " 'max_depth': 8,\n",
       " 'learning_rate': 0.179168559852206,\n",
       " 'subsample': 0.7811228540129369,\n",
       " 'colsample_bytree': 0.7127860643930117,\n",
       " 'scale_pos_weight': 70.40383670651536}"
      ]
     },
     "execution_count": 18,
     "metadata": {},
     "output_type": "execute_result"
    }
   ],
   "source": [
    "study.best_trial.params"
   ]
  },
  {
   "cell_type": "code",
   "execution_count": 19,
   "metadata": {
    "execution": {
     "iopub.execute_input": "2025-04-23T22:21:26.996332Z",
     "iopub.status.busy": "2025-04-23T22:21:26.996121Z",
     "iopub.status.idle": "2025-04-23T22:21:27.000392Z",
     "shell.execute_reply": "2025-04-23T22:21:26.999745Z",
     "shell.execute_reply.started": "2025-04-23T22:21:26.996315Z"
    },
    "trusted": true
   },
   "outputs": [],
   "source": [
    "best_sampler = study.best_trial.params.get('sampler')\n",
    "best_param = {k: v for k, v in study.best_trial.params.items() if k != 'sampler'}"
   ]
  },
  {
   "cell_type": "code",
   "execution_count": 20,
   "metadata": {
    "execution": {
     "iopub.execute_input": "2025-04-23T22:21:28.824261Z",
     "iopub.status.busy": "2025-04-23T22:21:28.823602Z",
     "iopub.status.idle": "2025-04-23T22:21:28.828143Z",
     "shell.execute_reply": "2025-04-23T22:21:28.827658Z",
     "shell.execute_reply.started": "2025-04-23T22:21:28.824237Z"
    },
    "trusted": true
   },
   "outputs": [
    {
     "data": {
      "text/plain": [
       "'ros'"
      ]
     },
     "execution_count": 20,
     "metadata": {},
     "output_type": "execute_result"
    }
   ],
   "source": [
    "best_sampler"
   ]
  },
  {
   "cell_type": "code",
   "execution_count": 21,
   "metadata": {
    "execution": {
     "iopub.execute_input": "2025-04-23T22:21:30.570963Z",
     "iopub.status.busy": "2025-04-23T22:21:30.570733Z",
     "iopub.status.idle": "2025-04-23T22:21:30.575791Z",
     "shell.execute_reply": "2025-04-23T22:21:30.575213Z",
     "shell.execute_reply.started": "2025-04-23T22:21:30.570945Z"
    },
    "trusted": true
   },
   "outputs": [
    {
     "data": {
      "text/plain": [
       "{'n_estimators': 223,\n",
       " 'max_depth': 8,\n",
       " 'learning_rate': 0.179168559852206,\n",
       " 'subsample': 0.7811228540129369,\n",
       " 'colsample_bytree': 0.7127860643930117,\n",
       " 'scale_pos_weight': 70.40383670651536}"
      ]
     },
     "execution_count": 21,
     "metadata": {},
     "output_type": "execute_result"
    }
   ],
   "source": [
    "best_param"
   ]
  },
  {
   "cell_type": "code",
   "execution_count": 24,
   "metadata": {
    "execution": {
     "iopub.execute_input": "2025-04-23T22:21:31.997790Z",
     "iopub.status.busy": "2025-04-23T22:21:31.997563Z",
     "iopub.status.idle": "2025-04-23T22:21:32.001677Z",
     "shell.execute_reply": "2025-04-23T22:21:32.001103Z",
     "shell.execute_reply.started": "2025-04-23T22:21:31.997773Z"
    },
    "trusted": true
   },
   "outputs": [],
   "source": [
    "sampler = create_sampler(best_sampler)\n",
    "model =  XGBClassifier(**best_param, n_jobs=-1, random_state=42)\n",
    "\n",
    "pipeline = Pipeline([\n",
    "    ('sampler', sampler),\n",
    "    ('classifier', model)\n",
    "])"
   ]
  },
  {
   "cell_type": "code",
   "execution_count": 25,
   "metadata": {
    "execution": {
     "iopub.execute_input": "2025-04-23T22:21:33.021917Z",
     "iopub.status.busy": "2025-04-23T22:21:33.021699Z",
     "iopub.status.idle": "2025-04-23T22:21:35.848479Z",
     "shell.execute_reply": "2025-04-23T22:21:35.847901Z",
     "shell.execute_reply.started": "2025-04-23T22:21:33.021900Z"
    },
    "trusted": true
   },
   "outputs": [
    {
     "data": {
      "text/html": [
       "<style>#sk-container-id-2 {\n",
       "  /* Definition of color scheme common for light and dark mode */\n",
       "  --sklearn-color-text: black;\n",
       "  --sklearn-color-line: gray;\n",
       "  /* Definition of color scheme for unfitted estimators */\n",
       "  --sklearn-color-unfitted-level-0: #fff5e6;\n",
       "  --sklearn-color-unfitted-level-1: #f6e4d2;\n",
       "  --sklearn-color-unfitted-level-2: #ffe0b3;\n",
       "  --sklearn-color-unfitted-level-3: chocolate;\n",
       "  /* Definition of color scheme for fitted estimators */\n",
       "  --sklearn-color-fitted-level-0: #f0f8ff;\n",
       "  --sklearn-color-fitted-level-1: #d4ebff;\n",
       "  --sklearn-color-fitted-level-2: #b3dbfd;\n",
       "  --sklearn-color-fitted-level-3: cornflowerblue;\n",
       "\n",
       "  /* Specific color for light theme */\n",
       "  --sklearn-color-text-on-default-background: var(--sg-text-color, var(--theme-code-foreground, var(--jp-content-font-color1, black)));\n",
       "  --sklearn-color-background: var(--sg-background-color, var(--theme-background, var(--jp-layout-color0, white)));\n",
       "  --sklearn-color-border-box: var(--sg-text-color, var(--theme-code-foreground, var(--jp-content-font-color1, black)));\n",
       "  --sklearn-color-icon: #696969;\n",
       "\n",
       "  @media (prefers-color-scheme: dark) {\n",
       "    /* Redefinition of color scheme for dark theme */\n",
       "    --sklearn-color-text-on-default-background: var(--sg-text-color, var(--theme-code-foreground, var(--jp-content-font-color1, white)));\n",
       "    --sklearn-color-background: var(--sg-background-color, var(--theme-background, var(--jp-layout-color0, #111)));\n",
       "    --sklearn-color-border-box: var(--sg-text-color, var(--theme-code-foreground, var(--jp-content-font-color1, white)));\n",
       "    --sklearn-color-icon: #878787;\n",
       "  }\n",
       "}\n",
       "\n",
       "#sk-container-id-2 {\n",
       "  color: var(--sklearn-color-text);\n",
       "}\n",
       "\n",
       "#sk-container-id-2 pre {\n",
       "  padding: 0;\n",
       "}\n",
       "\n",
       "#sk-container-id-2 input.sk-hidden--visually {\n",
       "  border: 0;\n",
       "  clip: rect(1px 1px 1px 1px);\n",
       "  clip: rect(1px, 1px, 1px, 1px);\n",
       "  height: 1px;\n",
       "  margin: -1px;\n",
       "  overflow: hidden;\n",
       "  padding: 0;\n",
       "  position: absolute;\n",
       "  width: 1px;\n",
       "}\n",
       "\n",
       "#sk-container-id-2 div.sk-dashed-wrapped {\n",
       "  border: 1px dashed var(--sklearn-color-line);\n",
       "  margin: 0 0.4em 0.5em 0.4em;\n",
       "  box-sizing: border-box;\n",
       "  padding-bottom: 0.4em;\n",
       "  background-color: var(--sklearn-color-background);\n",
       "}\n",
       "\n",
       "#sk-container-id-2 div.sk-container {\n",
       "  /* jupyter's `normalize.less` sets `[hidden] { display: none; }`\n",
       "     but bootstrap.min.css set `[hidden] { display: none !important; }`\n",
       "     so we also need the `!important` here to be able to override the\n",
       "     default hidden behavior on the sphinx rendered scikit-learn.org.\n",
       "     See: https://github.com/scikit-learn/scikit-learn/issues/21755 */\n",
       "  display: inline-block !important;\n",
       "  position: relative;\n",
       "}\n",
       "\n",
       "#sk-container-id-2 div.sk-text-repr-fallback {\n",
       "  display: none;\n",
       "}\n",
       "\n",
       "div.sk-parallel-item,\n",
       "div.sk-serial,\n",
       "div.sk-item {\n",
       "  /* draw centered vertical line to link estimators */\n",
       "  background-image: linear-gradient(var(--sklearn-color-text-on-default-background), var(--sklearn-color-text-on-default-background));\n",
       "  background-size: 2px 100%;\n",
       "  background-repeat: no-repeat;\n",
       "  background-position: center center;\n",
       "}\n",
       "\n",
       "/* Parallel-specific style estimator block */\n",
       "\n",
       "#sk-container-id-2 div.sk-parallel-item::after {\n",
       "  content: \"\";\n",
       "  width: 100%;\n",
       "  border-bottom: 2px solid var(--sklearn-color-text-on-default-background);\n",
       "  flex-grow: 1;\n",
       "}\n",
       "\n",
       "#sk-container-id-2 div.sk-parallel {\n",
       "  display: flex;\n",
       "  align-items: stretch;\n",
       "  justify-content: center;\n",
       "  background-color: var(--sklearn-color-background);\n",
       "  position: relative;\n",
       "}\n",
       "\n",
       "#sk-container-id-2 div.sk-parallel-item {\n",
       "  display: flex;\n",
       "  flex-direction: column;\n",
       "}\n",
       "\n",
       "#sk-container-id-2 div.sk-parallel-item:first-child::after {\n",
       "  align-self: flex-end;\n",
       "  width: 50%;\n",
       "}\n",
       "\n",
       "#sk-container-id-2 div.sk-parallel-item:last-child::after {\n",
       "  align-self: flex-start;\n",
       "  width: 50%;\n",
       "}\n",
       "\n",
       "#sk-container-id-2 div.sk-parallel-item:only-child::after {\n",
       "  width: 0;\n",
       "}\n",
       "\n",
       "/* Serial-specific style estimator block */\n",
       "\n",
       "#sk-container-id-2 div.sk-serial {\n",
       "  display: flex;\n",
       "  flex-direction: column;\n",
       "  align-items: center;\n",
       "  background-color: var(--sklearn-color-background);\n",
       "  padding-right: 1em;\n",
       "  padding-left: 1em;\n",
       "}\n",
       "\n",
       "\n",
       "/* Toggleable style: style used for estimator/Pipeline/ColumnTransformer box that is\n",
       "clickable and can be expanded/collapsed.\n",
       "- Pipeline and ColumnTransformer use this feature and define the default style\n",
       "- Estimators will overwrite some part of the style using the `sk-estimator` class\n",
       "*/\n",
       "\n",
       "/* Pipeline and ColumnTransformer style (default) */\n",
       "\n",
       "#sk-container-id-2 div.sk-toggleable {\n",
       "  /* Default theme specific background. It is overwritten whether we have a\n",
       "  specific estimator or a Pipeline/ColumnTransformer */\n",
       "  background-color: var(--sklearn-color-background);\n",
       "}\n",
       "\n",
       "/* Toggleable label */\n",
       "#sk-container-id-2 label.sk-toggleable__label {\n",
       "  cursor: pointer;\n",
       "  display: block;\n",
       "  width: 100%;\n",
       "  margin-bottom: 0;\n",
       "  padding: 0.5em;\n",
       "  box-sizing: border-box;\n",
       "  text-align: center;\n",
       "}\n",
       "\n",
       "#sk-container-id-2 label.sk-toggleable__label-arrow:before {\n",
       "  /* Arrow on the left of the label */\n",
       "  content: \"▸\";\n",
       "  float: left;\n",
       "  margin-right: 0.25em;\n",
       "  color: var(--sklearn-color-icon);\n",
       "}\n",
       "\n",
       "#sk-container-id-2 label.sk-toggleable__label-arrow:hover:before {\n",
       "  color: var(--sklearn-color-text);\n",
       "}\n",
       "\n",
       "/* Toggleable content - dropdown */\n",
       "\n",
       "#sk-container-id-2 div.sk-toggleable__content {\n",
       "  max-height: 0;\n",
       "  max-width: 0;\n",
       "  overflow: hidden;\n",
       "  text-align: left;\n",
       "  /* unfitted */\n",
       "  background-color: var(--sklearn-color-unfitted-level-0);\n",
       "}\n",
       "\n",
       "#sk-container-id-2 div.sk-toggleable__content.fitted {\n",
       "  /* fitted */\n",
       "  background-color: var(--sklearn-color-fitted-level-0);\n",
       "}\n",
       "\n",
       "#sk-container-id-2 div.sk-toggleable__content pre {\n",
       "  margin: 0.2em;\n",
       "  border-radius: 0.25em;\n",
       "  color: var(--sklearn-color-text);\n",
       "  /* unfitted */\n",
       "  background-color: var(--sklearn-color-unfitted-level-0);\n",
       "}\n",
       "\n",
       "#sk-container-id-2 div.sk-toggleable__content.fitted pre {\n",
       "  /* unfitted */\n",
       "  background-color: var(--sklearn-color-fitted-level-0);\n",
       "}\n",
       "\n",
       "#sk-container-id-2 input.sk-toggleable__control:checked~div.sk-toggleable__content {\n",
       "  /* Expand drop-down */\n",
       "  max-height: 200px;\n",
       "  max-width: 100%;\n",
       "  overflow: auto;\n",
       "}\n",
       "\n",
       "#sk-container-id-2 input.sk-toggleable__control:checked~label.sk-toggleable__label-arrow:before {\n",
       "  content: \"▾\";\n",
       "}\n",
       "\n",
       "/* Pipeline/ColumnTransformer-specific style */\n",
       "\n",
       "#sk-container-id-2 div.sk-label input.sk-toggleable__control:checked~label.sk-toggleable__label {\n",
       "  color: var(--sklearn-color-text);\n",
       "  background-color: var(--sklearn-color-unfitted-level-2);\n",
       "}\n",
       "\n",
       "#sk-container-id-2 div.sk-label.fitted input.sk-toggleable__control:checked~label.sk-toggleable__label {\n",
       "  background-color: var(--sklearn-color-fitted-level-2);\n",
       "}\n",
       "\n",
       "/* Estimator-specific style */\n",
       "\n",
       "/* Colorize estimator box */\n",
       "#sk-container-id-2 div.sk-estimator input.sk-toggleable__control:checked~label.sk-toggleable__label {\n",
       "  /* unfitted */\n",
       "  background-color: var(--sklearn-color-unfitted-level-2);\n",
       "}\n",
       "\n",
       "#sk-container-id-2 div.sk-estimator.fitted input.sk-toggleable__control:checked~label.sk-toggleable__label {\n",
       "  /* fitted */\n",
       "  background-color: var(--sklearn-color-fitted-level-2);\n",
       "}\n",
       "\n",
       "#sk-container-id-2 div.sk-label label.sk-toggleable__label,\n",
       "#sk-container-id-2 div.sk-label label {\n",
       "  /* The background is the default theme color */\n",
       "  color: var(--sklearn-color-text-on-default-background);\n",
       "}\n",
       "\n",
       "/* On hover, darken the color of the background */\n",
       "#sk-container-id-2 div.sk-label:hover label.sk-toggleable__label {\n",
       "  color: var(--sklearn-color-text);\n",
       "  background-color: var(--sklearn-color-unfitted-level-2);\n",
       "}\n",
       "\n",
       "/* Label box, darken color on hover, fitted */\n",
       "#sk-container-id-2 div.sk-label.fitted:hover label.sk-toggleable__label.fitted {\n",
       "  color: var(--sklearn-color-text);\n",
       "  background-color: var(--sklearn-color-fitted-level-2);\n",
       "}\n",
       "\n",
       "/* Estimator label */\n",
       "\n",
       "#sk-container-id-2 div.sk-label label {\n",
       "  font-family: monospace;\n",
       "  font-weight: bold;\n",
       "  display: inline-block;\n",
       "  line-height: 1.2em;\n",
       "}\n",
       "\n",
       "#sk-container-id-2 div.sk-label-container {\n",
       "  text-align: center;\n",
       "}\n",
       "\n",
       "/* Estimator-specific */\n",
       "#sk-container-id-2 div.sk-estimator {\n",
       "  font-family: monospace;\n",
       "  border: 1px dotted var(--sklearn-color-border-box);\n",
       "  border-radius: 0.25em;\n",
       "  box-sizing: border-box;\n",
       "  margin-bottom: 0.5em;\n",
       "  /* unfitted */\n",
       "  background-color: var(--sklearn-color-unfitted-level-0);\n",
       "}\n",
       "\n",
       "#sk-container-id-2 div.sk-estimator.fitted {\n",
       "  /* fitted */\n",
       "  background-color: var(--sklearn-color-fitted-level-0);\n",
       "}\n",
       "\n",
       "/* on hover */\n",
       "#sk-container-id-2 div.sk-estimator:hover {\n",
       "  /* unfitted */\n",
       "  background-color: var(--sklearn-color-unfitted-level-2);\n",
       "}\n",
       "\n",
       "#sk-container-id-2 div.sk-estimator.fitted:hover {\n",
       "  /* fitted */\n",
       "  background-color: var(--sklearn-color-fitted-level-2);\n",
       "}\n",
       "\n",
       "/* Specification for estimator info (e.g. \"i\" and \"?\") */\n",
       "\n",
       "/* Common style for \"i\" and \"?\" */\n",
       "\n",
       ".sk-estimator-doc-link,\n",
       "a:link.sk-estimator-doc-link,\n",
       "a:visited.sk-estimator-doc-link {\n",
       "  float: right;\n",
       "  font-size: smaller;\n",
       "  line-height: 1em;\n",
       "  font-family: monospace;\n",
       "  background-color: var(--sklearn-color-background);\n",
       "  border-radius: 1em;\n",
       "  height: 1em;\n",
       "  width: 1em;\n",
       "  text-decoration: none !important;\n",
       "  margin-left: 1ex;\n",
       "  /* unfitted */\n",
       "  border: var(--sklearn-color-unfitted-level-1) 1pt solid;\n",
       "  color: var(--sklearn-color-unfitted-level-1);\n",
       "}\n",
       "\n",
       ".sk-estimator-doc-link.fitted,\n",
       "a:link.sk-estimator-doc-link.fitted,\n",
       "a:visited.sk-estimator-doc-link.fitted {\n",
       "  /* fitted */\n",
       "  border: var(--sklearn-color-fitted-level-1) 1pt solid;\n",
       "  color: var(--sklearn-color-fitted-level-1);\n",
       "}\n",
       "\n",
       "/* On hover */\n",
       "div.sk-estimator:hover .sk-estimator-doc-link:hover,\n",
       ".sk-estimator-doc-link:hover,\n",
       "div.sk-label-container:hover .sk-estimator-doc-link:hover,\n",
       ".sk-estimator-doc-link:hover {\n",
       "  /* unfitted */\n",
       "  background-color: var(--sklearn-color-unfitted-level-3);\n",
       "  color: var(--sklearn-color-background);\n",
       "  text-decoration: none;\n",
       "}\n",
       "\n",
       "div.sk-estimator.fitted:hover .sk-estimator-doc-link.fitted:hover,\n",
       ".sk-estimator-doc-link.fitted:hover,\n",
       "div.sk-label-container:hover .sk-estimator-doc-link.fitted:hover,\n",
       ".sk-estimator-doc-link.fitted:hover {\n",
       "  /* fitted */\n",
       "  background-color: var(--sklearn-color-fitted-level-3);\n",
       "  color: var(--sklearn-color-background);\n",
       "  text-decoration: none;\n",
       "}\n",
       "\n",
       "/* Span, style for the box shown on hovering the info icon */\n",
       ".sk-estimator-doc-link span {\n",
       "  display: none;\n",
       "  z-index: 9999;\n",
       "  position: relative;\n",
       "  font-weight: normal;\n",
       "  right: .2ex;\n",
       "  padding: .5ex;\n",
       "  margin: .5ex;\n",
       "  width: min-content;\n",
       "  min-width: 20ex;\n",
       "  max-width: 50ex;\n",
       "  color: var(--sklearn-color-text);\n",
       "  box-shadow: 2pt 2pt 4pt #999;\n",
       "  /* unfitted */\n",
       "  background: var(--sklearn-color-unfitted-level-0);\n",
       "  border: .5pt solid var(--sklearn-color-unfitted-level-3);\n",
       "}\n",
       "\n",
       ".sk-estimator-doc-link.fitted span {\n",
       "  /* fitted */\n",
       "  background: var(--sklearn-color-fitted-level-0);\n",
       "  border: var(--sklearn-color-fitted-level-3);\n",
       "}\n",
       "\n",
       ".sk-estimator-doc-link:hover span {\n",
       "  display: block;\n",
       "}\n",
       "\n",
       "/* \"?\"-specific style due to the `<a>` HTML tag */\n",
       "\n",
       "#sk-container-id-2 a.estimator_doc_link {\n",
       "  float: right;\n",
       "  font-size: 1rem;\n",
       "  line-height: 1em;\n",
       "  font-family: monospace;\n",
       "  background-color: var(--sklearn-color-background);\n",
       "  border-radius: 1rem;\n",
       "  height: 1rem;\n",
       "  width: 1rem;\n",
       "  text-decoration: none;\n",
       "  /* unfitted */\n",
       "  color: var(--sklearn-color-unfitted-level-1);\n",
       "  border: var(--sklearn-color-unfitted-level-1) 1pt solid;\n",
       "}\n",
       "\n",
       "#sk-container-id-2 a.estimator_doc_link.fitted {\n",
       "  /* fitted */\n",
       "  border: var(--sklearn-color-fitted-level-1) 1pt solid;\n",
       "  color: var(--sklearn-color-fitted-level-1);\n",
       "}\n",
       "\n",
       "/* On hover */\n",
       "#sk-container-id-2 a.estimator_doc_link:hover {\n",
       "  /* unfitted */\n",
       "  background-color: var(--sklearn-color-unfitted-level-3);\n",
       "  color: var(--sklearn-color-background);\n",
       "  text-decoration: none;\n",
       "}\n",
       "\n",
       "#sk-container-id-2 a.estimator_doc_link.fitted:hover {\n",
       "  /* fitted */\n",
       "  background-color: var(--sklearn-color-fitted-level-3);\n",
       "}\n",
       "</style><div id=\"sk-container-id-2\" class=\"sk-top-container\"><div class=\"sk-text-repr-fallback\"><pre>Pipeline(steps=[(&#x27;sampler&#x27;, RandomOverSampler()),\n",
       "                (&#x27;classifier&#x27;,\n",
       "                 XGBClassifier(base_score=None, booster=None, callbacks=None,\n",
       "                               colsample_bylevel=None, colsample_bynode=None,\n",
       "                               colsample_bytree=0.7127860643930117, device=None,\n",
       "                               early_stopping_rounds=None,\n",
       "                               enable_categorical=False, eval_metric=None,\n",
       "                               feature_types=None, feature_weights=None,\n",
       "                               gamma=None, grow_policy=None,\n",
       "                               importance_type=None,\n",
       "                               interaction_constraints=None,\n",
       "                               learning_rate=0.179168559852206, max_bin=None,\n",
       "                               max_cat_threshold=None, max_cat_to_onehot=None,\n",
       "                               max_delta_step=None, max_depth=8,\n",
       "                               max_leaves=None, min_child_weight=None,\n",
       "                               missing=nan, monotone_constraints=None,\n",
       "                               multi_strategy=None, n_estimators=223, n_jobs=-1,\n",
       "                               num_parallel_tree=None, ...))])</pre><b>In a Jupyter environment, please rerun this cell to show the HTML representation or trust the notebook. <br />On GitHub, the HTML representation is unable to render, please try loading this page with nbviewer.org.</b></div><div class=\"sk-container\" hidden><div class=\"sk-item sk-dashed-wrapped\"><div class=\"sk-label-container\"><div class=\"sk-label fitted sk-toggleable\"><input class=\"sk-toggleable__control sk-hidden--visually\" id=\"sk-estimator-id-4\" type=\"checkbox\" ><label for=\"sk-estimator-id-4\" class=\"sk-toggleable__label fitted sk-toggleable__label-arrow fitted\">&nbsp;Pipeline<span class=\"sk-estimator-doc-link fitted\">i<span>Fitted</span></span></label><div class=\"sk-toggleable__content fitted\"><pre>Pipeline(steps=[(&#x27;sampler&#x27;, RandomOverSampler()),\n",
       "                (&#x27;classifier&#x27;,\n",
       "                 XGBClassifier(base_score=None, booster=None, callbacks=None,\n",
       "                               colsample_bylevel=None, colsample_bynode=None,\n",
       "                               colsample_bytree=0.7127860643930117, device=None,\n",
       "                               early_stopping_rounds=None,\n",
       "                               enable_categorical=False, eval_metric=None,\n",
       "                               feature_types=None, feature_weights=None,\n",
       "                               gamma=None, grow_policy=None,\n",
       "                               importance_type=None,\n",
       "                               interaction_constraints=None,\n",
       "                               learning_rate=0.179168559852206, max_bin=None,\n",
       "                               max_cat_threshold=None, max_cat_to_onehot=None,\n",
       "                               max_delta_step=None, max_depth=8,\n",
       "                               max_leaves=None, min_child_weight=None,\n",
       "                               missing=nan, monotone_constraints=None,\n",
       "                               multi_strategy=None, n_estimators=223, n_jobs=-1,\n",
       "                               num_parallel_tree=None, ...))])</pre></div> </div></div><div class=\"sk-serial\"><div class=\"sk-item\"><div class=\"sk-estimator fitted sk-toggleable\"><input class=\"sk-toggleable__control sk-hidden--visually\" id=\"sk-estimator-id-5\" type=\"checkbox\" ><label for=\"sk-estimator-id-5\" class=\"sk-toggleable__label fitted sk-toggleable__label-arrow fitted\">RandomOverSampler</label><div class=\"sk-toggleable__content fitted\"><pre>RandomOverSampler()</pre></div> </div></div><div class=\"sk-item\"><div class=\"sk-estimator fitted sk-toggleable\"><input class=\"sk-toggleable__control sk-hidden--visually\" id=\"sk-estimator-id-6\" type=\"checkbox\" ><label for=\"sk-estimator-id-6\" class=\"sk-toggleable__label fitted sk-toggleable__label-arrow fitted\">&nbsp;XGBClassifier<a class=\"sk-estimator-doc-link fitted\" rel=\"noreferrer\" target=\"_blank\" href=\"https://xgboost.readthedocs.io/en/release_3.0.0/python/python_api.html#xgboost.XGBClassifier\">?<span>Documentation for XGBClassifier</span></a></label><div class=\"sk-toggleable__content fitted\"><pre>XGBClassifier(base_score=None, booster=None, callbacks=None,\n",
       "              colsample_bylevel=None, colsample_bynode=None,\n",
       "              colsample_bytree=0.7127860643930117, device=None,\n",
       "              early_stopping_rounds=None, enable_categorical=False,\n",
       "              eval_metric=None, feature_types=None, feature_weights=None,\n",
       "              gamma=None, grow_policy=None, importance_type=None,\n",
       "              interaction_constraints=None, learning_rate=0.179168559852206,\n",
       "              max_bin=None, max_cat_threshold=None, max_cat_to_onehot=None,\n",
       "              max_delta_step=None, max_depth=8, max_leaves=None,\n",
       "              min_child_weight=None, missing=nan, monotone_constraints=None,\n",
       "              multi_strategy=None, n_estimators=223, n_jobs=-1,\n",
       "              num_parallel_tree=None, ...)</pre></div> </div></div></div></div></div></div>"
      ],
      "text/plain": [
       "Pipeline(steps=[('sampler', RandomOverSampler()),\n",
       "                ('classifier',\n",
       "                 XGBClassifier(base_score=None, booster=None, callbacks=None,\n",
       "                               colsample_bylevel=None, colsample_bynode=None,\n",
       "                               colsample_bytree=0.7127860643930117, device=None,\n",
       "                               early_stopping_rounds=None,\n",
       "                               enable_categorical=False, eval_metric=None,\n",
       "                               feature_types=None, feature_weights=None,\n",
       "                               gamma=None, grow_policy=None,\n",
       "                               importance_type=None,\n",
       "                               interaction_constraints=None,\n",
       "                               learning_rate=0.179168559852206, max_bin=None,\n",
       "                               max_cat_threshold=None, max_cat_to_onehot=None,\n",
       "                               max_delta_step=None, max_depth=8,\n",
       "                               max_leaves=None, min_child_weight=None,\n",
       "                               missing=nan, monotone_constraints=None,\n",
       "                               multi_strategy=None, n_estimators=223, n_jobs=-1,\n",
       "                               num_parallel_tree=None, ...))])"
      ]
     },
     "execution_count": 25,
     "metadata": {},
     "output_type": "execute_result"
    }
   ],
   "source": [
    "pipeline.fit(X_train, y_train)"
   ]
  },
  {
   "cell_type": "code",
   "execution_count": 26,
   "metadata": {
    "execution": {
     "iopub.execute_input": "2025-04-23T22:21:35.850020Z",
     "iopub.status.busy": "2025-04-23T22:21:35.849575Z",
     "iopub.status.idle": "2025-04-23T22:21:36.055261Z",
     "shell.execute_reply": "2025-04-23T22:21:36.054685Z",
     "shell.execute_reply.started": "2025-04-23T22:21:35.850002Z"
    },
    "trusted": true
   },
   "outputs": [
    {
     "name": "stdout",
     "output_type": "stream",
     "text": [
      "[[84962    14]\n",
      " [   34   108]]\n",
      "\n"
     ]
    },
    {
     "data": {
      "text/html": [
       "<div>\n",
       "<style scoped>\n",
       "    .dataframe tbody tr th:only-of-type {\n",
       "        vertical-align: middle;\n",
       "    }\n",
       "\n",
       "    .dataframe tbody tr th {\n",
       "        vertical-align: top;\n",
       "    }\n",
       "\n",
       "    .dataframe thead th {\n",
       "        text-align: right;\n",
       "    }\n",
       "</style>\n",
       "<table border=\"1\" class=\"dataframe\">\n",
       "  <thead>\n",
       "    <tr style=\"text-align: right;\">\n",
       "      <th></th>\n",
       "      <th>XGBoost with</th>\n",
       "      <th>Recall</th>\n",
       "      <th>Precision</th>\n",
       "      <th>F1 Score</th>\n",
       "      <th>Accuracy</th>\n",
       "    </tr>\n",
       "  </thead>\n",
       "  <tbody>\n",
       "    <tr>\n",
       "      <th>0</th>\n",
       "      <td>ros</td>\n",
       "      <td>0.760563</td>\n",
       "      <td>0.885246</td>\n",
       "      <td>0.818182</td>\n",
       "      <td>0.999436</td>\n",
       "    </tr>\n",
       "  </tbody>\n",
       "</table>\n",
       "</div>"
      ],
      "text/plain": [
       "  XGBoost with    Recall  Precision  F1 Score  Accuracy\n",
       "0          ros  0.760563   0.885246  0.818182  0.999436"
      ]
     },
     "execution_count": 26,
     "metadata": {},
     "output_type": "execute_result"
    }
   ],
   "source": [
    "y_pred = pipeline.predict(X_test)\n",
    "\n",
    "cm = confusion_matrix(y_test, y_pred)\n",
    "recall = recall_score(y_test, y_pred, zero_division=0)\n",
    "precision = precision_score(y_test, y_pred, zero_division=0)\n",
    "f1 = f1_score(y_test, y_pred, zero_division=0)\n",
    "accuracy = accuracy_score(y_test, y_pred)\n",
    "\n",
    "print(f'{cm}\\n')\n",
    "\n",
    "df = [(recall, precision, f1, accuracy)]\n",
    "\n",
    "score = pd.DataFrame(df, columns=['Recall', 'Precision', 'F1 Score', 'Accuracy'])\n",
    "score.insert(0, 'XGBoost with', best_sampler)\n",
    "\n",
    "score"
   ]
  },
  {
   "cell_type": "code",
   "execution_count": 27,
   "metadata": {},
   "outputs": [],
   "source": [
    "pipeline.named_steps['classifier'].save_model('../models/xgboost_ros.json')\n"
   ]
  }
 ],
 "metadata": {
  "kaggle": {
   "accelerator": "nvidiaTeslaT4",
   "dataSources": [
    {
     "datasetId": 310,
     "sourceId": 23498,
     "sourceType": "datasetVersion"
    }
   ],
   "dockerImageVersionId": 31011,
   "isGpuEnabled": true,
   "isInternetEnabled": true,
   "language": "python",
   "sourceType": "notebook"
  },
  "kernelspec": {
   "display_name": "base",
   "language": "python",
   "name": "python3"
  },
  "language_info": {
   "codemirror_mode": {
    "name": "ipython",
    "version": 3
   },
   "file_extension": ".py",
   "mimetype": "text/x-python",
   "name": "python",
   "nbconvert_exporter": "python",
   "pygments_lexer": "ipython3",
   "version": "3.12.7"
  }
 },
 "nbformat": 4,
 "nbformat_minor": 4
}
