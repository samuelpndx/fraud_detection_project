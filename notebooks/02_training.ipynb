{
 "cells": [
  {
   "cell_type": "code",
   "execution_count": null,
   "metadata": {
    "trusted": true
   },
   "outputs": [],
   "source": [
    "# ! pip install scikit-learn==1.5.2"
   ]
  },
  {
   "cell_type": "code",
   "execution_count": null,
   "metadata": {
    "trusted": true
   },
   "outputs": [],
   "source": [
    "# ! pip install imbalanced-learn "
   ]
  },
  {
   "cell_type": "code",
   "execution_count": 2,
   "metadata": {
    "execution": {
     "iopub.execute_input": "2025-04-23T20:45:12.617062Z",
     "iopub.status.busy": "2025-04-23T20:45:12.616825Z",
     "iopub.status.idle": "2025-04-23T20:45:16.211191Z",
     "shell.execute_reply": "2025-04-23T20:45:16.210514Z",
     "shell.execute_reply.started": "2025-04-23T20:45:12.617040Z"
    },
    "trusted": true
   },
   "outputs": [
    {
     "name": "stdout",
     "output_type": "stream",
     "text": [
      "[2025-04-23 20:45:16.207] [CUML] [info] cuML: Installed accelerator for sklearn.\n",
      "[2025-04-23 20:45:16.208] [CUML] [info] cuML: Successfully initialized accelerator.\n"
     ]
    }
   ],
   "source": [
    "%load_ext cuml.accel"
   ]
  },
  {
   "cell_type": "code",
   "execution_count": 3,
   "metadata": {
    "execution": {
     "iopub.execute_input": "2025-04-23T20:45:21.093385Z",
     "iopub.status.busy": "2025-04-23T20:45:21.092613Z",
     "iopub.status.idle": "2025-04-23T20:45:21.097008Z",
     "shell.execute_reply": "2025-04-23T20:45:21.096050Z",
     "shell.execute_reply.started": "2025-04-23T20:45:21.093342Z"
    },
    "trusted": true
   },
   "outputs": [],
   "source": [
    "# import sklearn\n",
    "# print(sklearn.__version__)"
   ]
  },
  {
   "cell_type": "code",
   "execution_count": 4,
   "metadata": {
    "execution": {
     "iopub.execute_input": "2025-04-23T20:45:21.296607Z",
     "iopub.status.busy": "2025-04-23T20:45:21.295858Z",
     "iopub.status.idle": "2025-04-23T20:45:21.299993Z",
     "shell.execute_reply": "2025-04-23T20:45:21.299267Z",
     "shell.execute_reply.started": "2025-04-23T20:45:21.296574Z"
    },
    "trusted": true
   },
   "outputs": [],
   "source": [
    "# import imblearn\n",
    "# print(imblearn.__version__)"
   ]
  },
  {
   "cell_type": "code",
   "execution_count": null,
   "metadata": {
    "_cell_guid": "b1076dfc-b9ad-4769-8c92-a6c4dae69d19",
    "_uuid": "8f2839f25d086af736a60e9eeb907d3b93b6e0e5",
    "execution": {
     "iopub.execute_input": "2025-04-23T22:07:53.620257Z",
     "iopub.status.busy": "2025-04-23T22:07:53.619428Z",
     "iopub.status.idle": "2025-04-23T22:07:53.624719Z",
     "shell.execute_reply": "2025-04-23T22:07:53.623920Z",
     "shell.execute_reply.started": "2025-04-23T22:07:53.620228Z"
    },
    "trusted": true
   },
   "outputs": [],
   "source": [
    "import pandas as pd\n",
    "import numpy as np\n",
    "from sklearn.model_selection import train_test_split\n",
    "from sklearn.preprocessing import StandardScaler\n",
    "from sklearn.model_selection import StratifiedKFold\n",
    "from xgboost import XGBClassifier\n",
    "from sklearn.model_selection import cross_val_score\n",
    "from sklearn.metrics import(confusion_matrix,\n",
    "                            recall_score,\n",
    "                            precision_score,\n",
    "                            f1_score,\n",
    "                            accuracy_score,\n",
    "                            average_precision_score, \n",
    "                            make_scorer,\n",
    "                            fbeta_score)\n",
    "import optuna\n",
    "from imblearn.pipeline import Pipeline\n",
    "from imblearn.over_sampling import SMOTE, ADASYN, RandomOverSampler\n",
    "import pickle"
   ]
  },
  {
   "cell_type": "code",
   "execution_count": 48,
   "metadata": {
    "execution": {
     "iopub.execute_input": "2025-04-23T21:46:53.976841Z",
     "iopub.status.busy": "2025-04-23T21:46:53.976596Z",
     "iopub.status.idle": "2025-04-23T21:46:55.554820Z",
     "shell.execute_reply": "2025-04-23T21:46:55.554239Z",
     "shell.execute_reply.started": "2025-04-23T21:46:53.976826Z"
    },
    "trusted": true
   },
   "outputs": [],
   "source": [
    "df = pd.read_csv('/kaggle/input/creditcardfraud/creditcard.csv')"
   ]
  },
  {
   "cell_type": "code",
   "execution_count": 49,
   "metadata": {
    "execution": {
     "iopub.execute_input": "2025-04-23T21:46:55.556253Z",
     "iopub.status.busy": "2025-04-23T21:46:55.555997Z",
     "iopub.status.idle": "2025-04-23T21:46:56.012574Z",
     "shell.execute_reply": "2025-04-23T21:46:56.011995Z",
     "shell.execute_reply.started": "2025-04-23T21:46:55.556227Z"
    },
    "trusted": true
   },
   "outputs": [],
   "source": [
    "df.drop_duplicates(inplace=True)"
   ]
  },
  {
   "cell_type": "code",
   "execution_count": 50,
   "metadata": {
    "execution": {
     "iopub.execute_input": "2025-04-23T21:46:56.013502Z",
     "iopub.status.busy": "2025-04-23T21:46:56.013287Z",
     "iopub.status.idle": "2025-04-23T21:46:56.038410Z",
     "shell.execute_reply": "2025-04-23T21:46:56.037636Z",
     "shell.execute_reply.started": "2025-04-23T21:46:56.013487Z"
    },
    "trusted": true
   },
   "outputs": [],
   "source": [
    "X = df.drop(columns=['Time', 'Class'], axis=1)\n",
    "y = df['Class']"
   ]
  },
  {
   "cell_type": "code",
   "execution_count": 51,
   "metadata": {
    "execution": {
     "iopub.execute_input": "2025-04-23T21:46:56.040241Z",
     "iopub.status.busy": "2025-04-23T21:46:56.040026Z",
     "iopub.status.idle": "2025-04-23T21:46:56.192330Z",
     "shell.execute_reply": "2025-04-23T21:46:56.191791Z",
     "shell.execute_reply.started": "2025-04-23T21:46:56.040225Z"
    },
    "trusted": true
   },
   "outputs": [],
   "source": [
    "X_train, X_test, y_train, y_test = train_test_split(X,\n",
    "                                                    y,\n",
    "                                                    stratify=y,\n",
    "                                                    test_size=0.3,\n",
    "                                                    random_state=42)"
   ]
  },
  {
   "cell_type": "code",
   "execution_count": 52,
   "metadata": {
    "execution": {
     "iopub.execute_input": "2025-04-23T21:46:56.193273Z",
     "iopub.status.busy": "2025-04-23T21:46:56.193017Z",
     "iopub.status.idle": "2025-04-23T21:46:56.197272Z",
     "shell.execute_reply": "2025-04-23T21:46:56.196746Z",
     "shell.execute_reply.started": "2025-04-23T21:46:56.193252Z"
    },
    "trusted": true
   },
   "outputs": [],
   "source": [
    "def standardize(df, col_names):\n",
    "    scaler = StandardScaler()\n",
    "    df[col_names] = scaler.fit_transform(df[col_names])\n",
    "    return df"
   ]
  },
  {
   "cell_type": "code",
   "execution_count": 53,
   "metadata": {
    "execution": {
     "iopub.execute_input": "2025-04-23T21:46:56.198423Z",
     "iopub.status.busy": "2025-04-23T21:46:56.198135Z",
     "iopub.status.idle": "2025-04-23T21:46:56.214861Z",
     "shell.execute_reply": "2025-04-23T21:46:56.214044Z",
     "shell.execute_reply.started": "2025-04-23T21:46:56.198403Z"
    },
    "trusted": true
   },
   "outputs": [],
   "source": [
    "col_names = ['Amount']\n",
    "X_train = standardize(X_train, col_names)"
   ]
  },
  {
   "cell_type": "code",
   "execution_count": 54,
   "metadata": {
    "execution": {
     "iopub.execute_input": "2025-04-23T21:46:56.215792Z",
     "iopub.status.busy": "2025-04-23T21:46:56.215612Z",
     "iopub.status.idle": "2025-04-23T21:46:56.220201Z",
     "shell.execute_reply": "2025-04-23T21:46:56.219651Z",
     "shell.execute_reply.started": "2025-04-23T21:46:56.215778Z"
    },
    "trusted": true
   },
   "outputs": [],
   "source": [
    "kf = StratifiedKFold(n_splits=5, shuffle=False)"
   ]
  },
  {
   "cell_type": "code",
   "execution_count": 55,
   "metadata": {
    "execution": {
     "iopub.execute_input": "2025-04-23T21:47:07.634117Z",
     "iopub.status.busy": "2025-04-23T21:47:07.633430Z",
     "iopub.status.idle": "2025-04-23T21:47:07.637430Z",
     "shell.execute_reply": "2025-04-23T21:47:07.636744Z",
     "shell.execute_reply.started": "2025-04-23T21:47:07.634091Z"
    },
    "trusted": true
   },
   "outputs": [],
   "source": [
    "kf = StratifiedKFold(n_splits=5, shuffle=False)"
   ]
  },
  {
   "cell_type": "code",
   "execution_count": 56,
   "metadata": {
    "execution": {
     "iopub.execute_input": "2025-04-23T21:47:08.056431Z",
     "iopub.status.busy": "2025-04-23T21:47:08.056191Z",
     "iopub.status.idle": "2025-04-23T21:47:08.060078Z",
     "shell.execute_reply": "2025-04-23T21:47:08.059413Z",
     "shell.execute_reply.started": "2025-04-23T21:47:08.056414Z"
    },
    "trusted": true
   },
   "outputs": [],
   "source": [
    "def create_sampler(name):\n",
    "    if name == 'smote':\n",
    "        return SMOTE()\n",
    "    elif name == 'adasyn':\n",
    "        return ADASYN()\n",
    "    elif name == 'ros':\n",
    "        return RandomOverSampler()\n",
    "    return None"
   ]
  },
  {
   "cell_type": "code",
   "execution_count": 71,
   "metadata": {
    "execution": {
     "iopub.execute_input": "2025-04-23T22:08:04.995734Z",
     "iopub.status.busy": "2025-04-23T22:08:04.995478Z",
     "iopub.status.idle": "2025-04-23T22:08:05.001494Z",
     "shell.execute_reply": "2025-04-23T22:08:05.000768Z",
     "shell.execute_reply.started": "2025-04-23T22:08:04.995715Z"
    },
    "trusted": true
   },
   "outputs": [],
   "source": [
    "def objective(trial):\n",
    "    sampler_name = trial.suggest_categorical('sampler', ['smote', 'adasyn', 'ros'])\n",
    "    sampler = create_sampler(sampler_name)\n",
    "    \n",
    "    param = {\n",
    "        'n_estimators': trial.suggest_int('n_estimators', 50, 300),\n",
    "        'max_depth': trial.suggest_int('max_depth', 3, 10),\n",
    "        'learning_rate': trial.suggest_float('learning_rate', 0.01, 0.3),\n",
    "        'subsample': trial.suggest_float('subsample', 0.5, 1.0),\n",
    "        'colsample_bytree': trial.suggest_float('colsample_bytree', 0.5, 1.0),\n",
    "        'scale_pos_weight': trial.suggest_float('scale_pos_weight', 1.0, 100.0),  # Important for imbalance\n",
    "        'use_label_encoder': False,\n",
    "        'eval_metric': 'aucpr'\n",
    "    }\n",
    "\n",
    "    model =  XGBClassifier(**param,  device='cuda', random_state=42)\n",
    "    \n",
    "    pipeline = Pipeline([\n",
    "        ('sampler', sampler),\n",
    "        ('classifier', model)\n",
    "    ])\n",
    "    \n",
    "    # ap_scorer = make_scorer(average_precision_score, needs_proba=True)\n",
    "    f2_scorer = make_scorer(fbeta_score, beta=2)\n",
    "    score = cross_val_score(pipeline, X_train, y_train, cv=kf, scoring=f2_scorer)\n",
    "    \n",
    "    return np.mean(score)"
   ]
  },
  {
   "cell_type": "code",
   "execution_count": 72,
   "metadata": {
    "execution": {
     "iopub.execute_input": "2025-04-23T22:08:05.107096Z",
     "iopub.status.busy": "2025-04-23T22:08:05.106900Z",
     "iopub.status.idle": "2025-04-23T22:17:37.303835Z",
     "shell.execute_reply": "2025-04-23T22:17:37.303049Z",
     "shell.execute_reply.started": "2025-04-23T22:08:05.107081Z"
    },
    "scrolled": true,
    "trusted": true
   },
   "outputs": [
    {
     "name": "stderr",
     "output_type": "stream",
     "text": [
      "[I 2025-04-23 22:08:05,107] A new study created in memory with name: no-name-0b1f1413-8fbe-4193-a8b9-75a05d58735d\n"
     ]
    },
    {
     "data": {
      "application/vnd.jupyter.widget-view+json": {
       "model_id": "946a0de29276428280b1a23ae4196677",
       "version_major": 2,
       "version_minor": 0
      },
      "text/plain": [
       "  0%|          | 0/50 [00:00<?, ?it/s]"
      ]
     },
     "metadata": {},
     "output_type": "display_data"
    },
    {
     "name": "stdout",
     "output_type": "stream",
     "text": [
      "[I 2025-04-23 22:08:17,257] Trial 0 finished with value: 0.3581652738593869 and parameters: {'sampler': 'ros', 'n_estimators': 274, 'max_depth': 6, 'learning_rate': 0.013436424119979884, 'subsample': 0.7617946451076392, 'colsample_bytree': 0.6578953473870924, 'scale_pos_weight': 44.013793189949375}. Best is trial 0 with value: 0.3581652738593869.\n",
      "[I 2025-04-23 22:08:29,857] Trial 1 finished with value: 0.7950043478006262 and parameters: {'sampler': 'adasyn', 'n_estimators': 287, 'max_depth': 6, 'learning_rate': 0.2134842815914033, 'subsample': 0.9278158076279701, 'colsample_bytree': 0.7196270137065284, 'scale_pos_weight': 65.34008344139994}. Best is trial 1 with value: 0.7950043478006262.\n",
      "[I 2025-04-23 22:08:40,533] Trial 2 finished with value: 0.8131966187647756 and parameters: {'sampler': 'ros', 'n_estimators': 254, 'max_depth': 5, 'learning_rate': 0.06419583466448442, 'subsample': 0.8276569813608401, 'colsample_bytree': 0.7358475702343159, 'scale_pos_weight': 61.27167364959251}. Best is trial 2 with value: 0.8131966187647756.\n",
      "[I 2025-04-23 22:08:51,076] Trial 3 finished with value: 0.8437388218004355 and parameters: {'sampler': 'ros', 'n_estimators': 209, 'max_depth': 9, 'learning_rate': 0.16371150725691913, 'subsample': 0.9188648375126066, 'colsample_bytree': 0.8921628150050456, 'scale_pos_weight': 62.65486974383318}. Best is trial 3 with value: 0.8437388218004355.\n",
      "[I 2025-04-23 22:08:59,236] Trial 4 finished with value: 0.7577252250000239 and parameters: {'sampler': 'adasyn', 'n_estimators': 78, 'max_depth': 8, 'learning_rate': 0.22433493206761868, 'subsample': 0.9088658462951875, 'colsample_bytree': 0.5392098020551855, 'scale_pos_weight': 52.38538954830909}. Best is trial 3 with value: 0.8437388218004355.\n",
      "[I 2025-04-23 22:09:13,167] Trial 5 finished with value: 0.8025764613424877 and parameters: {'sampler': 'smote', 'n_estimators': 296, 'max_depth': 7, 'learning_rate': 0.14739079961537552, 'subsample': 0.5256174018118767, 'colsample_bytree': 0.90101659983815, 'scale_pos_weight': 67.51406672261218}. Best is trial 3 with value: 0.8437388218004355.\n",
      "[I 2025-04-23 22:09:19,487] Trial 6 finished with value: 0.7195080265010512 and parameters: {'sampler': 'ros', 'n_estimators': 103, 'max_depth': 3, 'learning_rate': 0.2639199606215074, 'subsample': 0.7985885739308384, 'colsample_bytree': 0.9598888685760776, 'scale_pos_weight': 57.01391064998675}. Best is trial 3 with value: 0.8437388218004355.\n",
      "[I 2025-04-23 22:09:26,516] Trial 7 finished with value: 0.5589323383843283 and parameters: {'sampler': 'ros', 'n_estimators': 150, 'max_depth': 3, 'learning_rate': 0.14350873146145388, 'subsample': 0.5763588388005838, 'colsample_bytree': 0.6484442289317452, 'scale_pos_weight': 52.13386386188298}. Best is trial 3 with value: 0.8437388218004355.\n",
      "[I 2025-04-23 22:09:37,906] Trial 8 finished with value: 0.808823002650702 and parameters: {'sampler': 'adasyn', 'n_estimators': 266, 'max_depth': 5, 'learning_rate': 0.28233612783132667, 'subsample': 0.9045369156814804, 'colsample_bytree': 0.85995747103808, 'scale_pos_weight': 19.58198102343468}. Best is trial 3 with value: 0.8437388218004355.\n",
      "[I 2025-04-23 22:09:54,414] Trial 9 finished with value: 0.7611147512471332 and parameters: {'sampler': 'smote', 'n_estimators': 273, 'max_depth': 9, 'learning_rate': 0.04307591880931762, 'subsample': 0.6179500109832211, 'colsample_bytree': 0.9456451700639172, 'scale_pos_weight': 25.166967592361228}. Best is trial 3 with value: 0.8437388218004355.\n",
      "[I 2025-04-23 22:10:06,057] Trial 10 finished with value: 0.8448635666825599 and parameters: {'sampler': 'ros', 'n_estimators': 207, 'max_depth': 10, 'learning_rate': 0.11134752111988269, 'subsample': 0.9939596742089599, 'colsample_bytree': 0.8029903348526783, 'scale_pos_weight': 97.2570522996605}. Best is trial 10 with value: 0.8448635666825599.\n",
      "[I 2025-04-23 22:10:18,036] Trial 11 finished with value: 0.84725609532333 and parameters: {'sampler': 'ros', 'n_estimators': 206, 'max_depth': 10, 'learning_rate': 0.10562775141262808, 'subsample': 0.9774287889450621, 'colsample_bytree': 0.8179264705654071, 'scale_pos_weight': 98.35096602778819}. Best is trial 11 with value: 0.84725609532333.\n",
      "[I 2025-04-23 22:10:29,639] Trial 12 finished with value: 0.8386826155021966 and parameters: {'sampler': 'ros', 'n_estimators': 198, 'max_depth': 10, 'learning_rate': 0.09486058590733917, 'subsample': 0.9784490260707669, 'colsample_bytree': 0.8302385220045009, 'scale_pos_weight': 94.89488947055833}. Best is trial 11 with value: 0.84725609532333.\n",
      "[I 2025-04-23 22:10:39,735] Trial 13 finished with value: 0.8426970128921389 and parameters: {'sampler': 'ros', 'n_estimators': 152, 'max_depth': 10, 'learning_rate': 0.11660547048274988, 'subsample': 0.6642959582725638, 'colsample_bytree': 0.7920678005407077, 'scale_pos_weight': 96.4339470878714}. Best is trial 11 with value: 0.84725609532333.\n",
      "[I 2025-04-23 22:10:51,454] Trial 14 finished with value: 0.845125875308548 and parameters: {'sampler': 'ros', 'n_estimators': 228, 'max_depth': 8, 'learning_rate': 0.09089300826253069, 'subsample': 0.9997457060161565, 'colsample_bytree': 0.7919285537094249, 'scale_pos_weight': 82.56336490661127}. Best is trial 11 with value: 0.84725609532333.\n",
      "[I 2025-04-23 22:11:05,441] Trial 15 finished with value: 0.740253713288731 and parameters: {'sampler': 'smote', 'n_estimators': 236, 'max_depth': 8, 'learning_rate': 0.05735530319230922, 'subsample': 0.8521586628425325, 'colsample_bytree': 0.6303042815000206, 'scale_pos_weight': 80.03900183501521}. Best is trial 11 with value: 0.84725609532333.\n",
      "[I 2025-04-23 22:11:14,986] Trial 16 finished with value: 0.8418390543305296 and parameters: {'sampler': 'ros', 'n_estimators': 171, 'max_depth': 8, 'learning_rate': 0.18926161257564783, 'subsample': 0.7057050111363672, 'colsample_bytree': 0.760166059210886, 'scale_pos_weight': 81.10442626381699}. Best is trial 11 with value: 0.84725609532333.\n",
      "[I 2025-04-23 22:11:27,215] Trial 17 finished with value: 0.8440771723357227 and parameters: {'sampler': 'ros', 'n_estimators': 233, 'max_depth': 9, 'learning_rate': 0.08793076521409963, 'subsample': 0.9953974065602855, 'colsample_bytree': 0.7094002864623933, 'scale_pos_weight': 83.31267047762358}. Best is trial 11 with value: 0.84725609532333.\n",
      "[I 2025-04-23 22:11:36,135] Trial 18 finished with value: 0.23395046044523596 and parameters: {'sampler': 'smote', 'n_estimators': 116, 'max_depth': 7, 'learning_rate': 0.03465560721709009, 'subsample': 0.8660866197098467, 'colsample_bytree': 0.526077427364819, 'scale_pos_weight': 35.46305294791029}. Best is trial 11 with value: 0.84725609532333.\n",
      "[I 2025-04-23 22:11:48,387] Trial 19 finished with value: 0.8085374404215779 and parameters: {'sampler': 'adasyn', 'n_estimators': 175, 'max_depth': 9, 'learning_rate': 0.12892080034986333, 'subsample': 0.9431508954557124, 'colsample_bytree': 0.846013775436245, 'scale_pos_weight': 5.398913100167597}. Best is trial 11 with value: 0.84725609532333.\n",
      "[I 2025-04-23 22:11:59,810] Trial 20 finished with value: 0.8441668142164094 and parameters: {'sampler': 'ros', 'n_estimators': 224, 'max_depth': 8, 'learning_rate': 0.08877000185878056, 'subsample': 0.7887150294794215, 'colsample_bytree': 0.6014598064055494, 'scale_pos_weight': 73.76492674470609}. Best is trial 11 with value: 0.84725609532333.\n",
      "[I 2025-04-23 22:12:11,228] Trial 21 finished with value: 0.8504507878076822 and parameters: {'sampler': 'ros', 'n_estimators': 200, 'max_depth': 10, 'learning_rate': 0.10609394911963685, 'subsample': 0.9937061428620857, 'colsample_bytree': 0.791039998596758, 'scale_pos_weight': 90.10453740110084}. Best is trial 21 with value: 0.8504507878076822.\n",
      "[I 2025-04-23 22:12:21,871] Trial 22 finished with value: 0.8447001789852724 and parameters: {'sampler': 'ros', 'n_estimators': 190, 'max_depth': 10, 'learning_rate': 0.17102020468462598, 'subsample': 0.9664743023010494, 'colsample_bytree': 0.775011372288473, 'scale_pos_weight': 87.92311600333274}. Best is trial 21 with value: 0.8504507878076822.\n",
      "[I 2025-04-23 22:12:34,624] Trial 23 finished with value: 0.846877084776866 and parameters: {'sampler': 'ros', 'n_estimators': 242, 'max_depth': 9, 'learning_rate': 0.07649133953441345, 'subsample': 0.9551560479090705, 'colsample_bytree': 0.6877939799731689, 'scale_pos_weight': 91.31424186332679}. Best is trial 21 with value: 0.8504507878076822.\n",
      "[I 2025-04-23 22:12:48,544] Trial 24 finished with value: 0.8438526356378153 and parameters: {'sampler': 'ros', 'n_estimators': 251, 'max_depth': 10, 'learning_rate': 0.06633518146436315, 'subsample': 0.8747898484046459, 'colsample_bytree': 0.6892049281252522, 'scale_pos_weight': 99.97070258197745}. Best is trial 21 with value: 0.8504507878076822.\n",
      "[I 2025-04-23 22:12:57,962] Trial 25 finished with value: 0.8427650722651083 and parameters: {'sampler': 'ros', 'n_estimators': 143, 'max_depth': 9, 'learning_rate': 0.12299996881461958, 'subsample': 0.9484944069833507, 'colsample_bytree': 0.5798702533771365, 'scale_pos_weight': 88.65540091492562}. Best is trial 21 with value: 0.8504507878076822.\n",
      "[I 2025-04-23 22:13:09,650] Trial 26 finished with value: 0.2224077818282606 and parameters: {'sampler': 'ros', 'n_estimators': 179, 'max_depth': 10, 'learning_rate': 0.010336803329017999, 'subsample': 0.8923205843635146, 'colsample_bytree': 0.8890286546186091, 'scale_pos_weight': 72.17717432855599}. Best is trial 21 with value: 0.8504507878076822.\n",
      "[I 2025-04-23 22:13:22,025] Trial 27 finished with value: 0.8494480691864881 and parameters: {'sampler': 'ros', 'n_estimators': 214, 'max_depth': 9, 'learning_rate': 0.06897687362609331, 'subsample': 0.9504926410230724, 'colsample_bytree': 0.7422974048561941, 'scale_pos_weight': 89.77070187597093}. Best is trial 21 with value: 0.8504507878076822.\n",
      "[I 2025-04-23 22:13:37,786] Trial 28 finished with value: 0.7363737296154838 and parameters: {'sampler': 'smote', 'n_estimators': 217, 'max_depth': 10, 'learning_rate': 0.04605584150566175, 'subsample': 0.8354764436962604, 'colsample_bytree': 0.7488175270609985, 'scale_pos_weight': 75.15847570207107}. Best is trial 21 with value: 0.8504507878076822.\n",
      "[I 2025-04-23 22:13:48,316] Trial 29 finished with value: 0.7215795385077404 and parameters: {'sampler': 'adasyn', 'n_estimators': 190, 'max_depth': 6, 'learning_rate': 0.10724452831345568, 'subsample': 0.7750448624165202, 'colsample_bytree': 0.8160534656362108, 'scale_pos_weight': 42.6144491383885}. Best is trial 21 with value: 0.8504507878076822.\n",
      "[I 2025-04-23 22:13:58,029] Trial 30 finished with value: 0.5071202770381669 and parameters: {'sampler': 'ros', 'n_estimators': 163, 'max_depth': 7, 'learning_rate': 0.030895547153182018, 'subsample': 0.7310367434739529, 'colsample_bytree': 0.9247004307368896, 'scale_pos_weight': 88.83820575099278}. Best is trial 21 with value: 0.8504507878076822.\n",
      "[I 2025-04-23 22:14:10,697] Trial 31 finished with value: 0.8400853271643074 and parameters: {'sampler': 'ros', 'n_estimators': 242, 'max_depth': 9, 'learning_rate': 0.0759086292928271, 'subsample': 0.9557185588871328, 'colsample_bytree': 0.6772047638698135, 'scale_pos_weight': 91.45352220135283}. Best is trial 21 with value: 0.8504507878076822.\n",
      "[I 2025-04-23 22:14:22,714] Trial 32 finished with value: 0.8460224835224835 and parameters: {'sampler': 'ros', 'n_estimators': 209, 'max_depth': 9, 'learning_rate': 0.07558465779466214, 'subsample': 0.9328053844047849, 'colsample_bytree': 0.733764321533406, 'scale_pos_weight': 91.73508344298607}. Best is trial 21 with value: 0.8504507878076822.\n",
      "[I 2025-04-23 22:14:34,685] Trial 33 finished with value: 0.8481919332983164 and parameters: {'sampler': 'ros', 'n_estimators': 254, 'max_depth': 10, 'learning_rate': 0.13376552707280187, 'subsample': 0.9652803424510454, 'colsample_bytree': 0.7146633187428904, 'scale_pos_weight': 85.71531482993055}. Best is trial 21 with value: 0.8504507878076822.\n",
      "[I 2025-04-23 22:14:46,225] Trial 34 finished with value: 0.8432170422901943 and parameters: {'sampler': 'ros', 'n_estimators': 262, 'max_depth': 10, 'learning_rate': 0.17842113877536037, 'subsample': 0.9230499371647436, 'colsample_bytree': 0.7667066254110682, 'scale_pos_weight': 77.37798173572202}. Best is trial 21 with value: 0.8504507878076822.\n",
      "[I 2025-04-23 22:14:55,385] Trial 35 finished with value: 0.845218925010515 and parameters: {'sampler': 'ros', 'n_estimators': 130, 'max_depth': 10, 'learning_rate': 0.13564868964656845, 'subsample': 0.8954472668340195, 'colsample_bytree': 0.7176490221822955, 'scale_pos_weight': 84.72783654070358}. Best is trial 21 with value: 0.8504507878076822.\n",
      "[I 2025-04-23 22:15:05,387] Trial 36 finished with value: 0.841718815572442 and parameters: {'sampler': 'ros', 'n_estimators': 280, 'max_depth': 4, 'learning_rate': 0.1919520214048098, 'subsample': 0.9618060425467508, 'colsample_bytree': 0.9851956592050861, 'scale_pos_weight': 68.78439915253921}. Best is trial 21 with value: 0.8504507878076822.\n",
      "[I 2025-04-23 22:15:20,486] Trial 37 finished with value: 0.7990625398788664 and parameters: {'sampler': 'adasyn', 'n_estimators': 299, 'max_depth': 9, 'learning_rate': 0.1560081702485973, 'subsample': 0.8194499523737698, 'colsample_bytree': 0.8592766719231016, 'scale_pos_weight': 64.30457151097704}. Best is trial 21 with value: 0.8504507878076822.\n",
      "[I 2025-04-23 22:15:31,443] Trial 38 finished with value: 0.8453071184743605 and parameters: {'sampler': 'ros', 'n_estimators': 253, 'max_depth': 8, 'learning_rate': 0.23320016771416177, 'subsample': 0.977391539873846, 'colsample_bytree': 0.7372006440894422, 'scale_pos_weight': 99.84914357971543}. Best is trial 21 with value: 0.8504507878076822.\n",
      "[I 2025-04-23 22:15:40,275] Trial 39 finished with value: 0.8317508451403605 and parameters: {'sampler': 'ros', 'n_estimators': 194, 'max_depth': 5, 'learning_rate': 0.1001633812386264, 'subsample': 0.9233404639486729, 'colsample_bytree': 0.6612937677747426, 'scale_pos_weight': 57.4675025695692}. Best is trial 21 with value: 0.8504507878076822.\n",
      "[I 2025-04-23 22:15:48,418] Trial 40 finished with value: 0.5466794975466802 and parameters: {'sampler': 'adasyn', 'n_estimators': 54, 'max_depth': 10, 'learning_rate': 0.13953824310324275, 'subsample': 0.8817329981472342, 'colsample_bytree': 0.8308965170149586, 'scale_pos_weight': 69.48958967100614}. Best is trial 21 with value: 0.8504507878076822.\n",
      "[I 2025-04-23 22:16:00,731] Trial 41 finished with value: 0.8429838773769545 and parameters: {'sampler': 'ros', 'n_estimators': 218, 'max_depth': 9, 'learning_rate': 0.06251938990930149, 'subsample': 0.9400749453837505, 'colsample_bytree': 0.6989401397690557, 'scale_pos_weight': 94.36760729305551}. Best is trial 21 with value: 0.8504507878076822.\n",
      "[I 2025-04-23 22:16:13,452] Trial 42 finished with value: 0.8430285983447945 and parameters: {'sampler': 'ros', 'n_estimators': 247, 'max_depth': 9, 'learning_rate': 0.07526926539384865, 'subsample': 0.9743553910197928, 'colsample_bytree': 0.615792508444438, 'scale_pos_weight': 84.83328643063366}. Best is trial 21 with value: 0.8504507878076822.\n",
      "[I 2025-04-23 22:16:24,561] Trial 43 finished with value: 0.8442002714460634 and parameters: {'sampler': 'ros', 'n_estimators': 205, 'max_depth': 10, 'learning_rate': 0.11774099224182004, 'subsample': 0.904784141616803, 'colsample_bytree': 0.6693689335198362, 'scale_pos_weight': 92.10480348884698}. Best is trial 21 with value: 0.8504507878076822.\n",
      "[I 2025-04-23 22:16:36,421] Trial 44 finished with value: 0.8482462782760525 and parameters: {'sampler': 'ros', 'n_estimators': 265, 'max_depth': 9, 'learning_rate': 0.15013378804245978, 'subsample': 0.998345808777576, 'colsample_bytree': 0.6438842630476724, 'scale_pos_weight': 77.95982983985576}. Best is trial 21 with value: 0.8504507878076822.\n",
      "[I 2025-04-23 22:16:51,308] Trial 45 finished with value: 0.8109913553073469 and parameters: {'sampler': 'smote', 'n_estimators': 279, 'max_depth': 10, 'learning_rate': 0.15318938904696686, 'subsample': 0.9953890566012434, 'colsample_bytree': 0.5655175960425364, 'scale_pos_weight': 77.3115349040452}. Best is trial 21 with value: 0.8504507878076822.\n",
      "[I 2025-04-23 22:17:03,498] Trial 46 finished with value: 0.8427139638277984 and parameters: {'sampler': 'ros', 'n_estimators': 264, 'max_depth': 8, 'learning_rate': 0.10619978994335369, 'subsample': 0.9770602308531963, 'colsample_bytree': 0.7934190520316267, 'scale_pos_weight': 86.8746758887149}. Best is trial 21 with value: 0.8504507878076822.\n",
      "[I 2025-04-23 22:17:14,355] Trial 47 finished with value: 0.8402750344938141 and parameters: {'sampler': 'ros', 'n_estimators': 219, 'max_depth': 9, 'learning_rate': 0.1283127112307881, 'subsample': 0.5656414308500046, 'colsample_bytree': 0.8801253011758766, 'scale_pos_weight': 96.28034596329528}. Best is trial 21 with value: 0.8504507878076822.\n",
      "[I 2025-04-23 22:17:26,011] Trial 48 finished with value: 0.8422073099827312 and parameters: {'sampler': 'ros', 'n_estimators': 291, 'max_depth': 7, 'learning_rate': 0.16502720227601597, 'subsample': 0.9122918901536664, 'colsample_bytree': 0.726263297480488, 'scale_pos_weight': 80.18468038709574}. Best is trial 21 with value: 0.8504507878076822.\n",
      "[I 2025-04-23 22:17:37,298] Trial 49 finished with value: 0.8431992343355434 and parameters: {'sampler': 'ros', 'n_estimators': 234, 'max_depth': 10, 'learning_rate': 0.1471802608577246, 'subsample': 0.9829341588276284, 'colsample_bytree': 0.6382436207353718, 'scale_pos_weight': 60.80184748042265}. Best is trial 21 with value: 0.8504507878076822.\n"
     ]
    }
   ],
   "source": [
    "study = optuna.create_study(direction='maximize')\n",
    "study.optimize(objective, n_trials=50, show_progress_bar=True)"
   ]
  },
  {
   "cell_type": "code",
   "execution_count": 75,
   "metadata": {
    "execution": {
     "iopub.execute_input": "2025-04-23T22:21:26.366386Z",
     "iopub.status.busy": "2025-04-23T22:21:26.365689Z",
     "iopub.status.idle": "2025-04-23T22:21:26.370994Z",
     "shell.execute_reply": "2025-04-23T22:21:26.370430Z",
     "shell.execute_reply.started": "2025-04-23T22:21:26.366337Z"
    },
    "trusted": true
   },
   "outputs": [
    {
     "data": {
      "text/plain": [
       "{'sampler': 'ros',\n",
       " 'n_estimators': 200,\n",
       " 'max_depth': 10,\n",
       " 'learning_rate': 0.10609394911963685,\n",
       " 'subsample': 0.9937061428620857,\n",
       " 'colsample_bytree': 0.791039998596758,\n",
       " 'scale_pos_weight': 90.10453740110084}"
      ]
     },
     "execution_count": 75,
     "metadata": {},
     "output_type": "execute_result"
    }
   ],
   "source": [
    "study.best_trial.params"
   ]
  },
  {
   "cell_type": "code",
   "execution_count": 76,
   "metadata": {
    "execution": {
     "iopub.execute_input": "2025-04-23T22:21:26.996332Z",
     "iopub.status.busy": "2025-04-23T22:21:26.996121Z",
     "iopub.status.idle": "2025-04-23T22:21:27.000392Z",
     "shell.execute_reply": "2025-04-23T22:21:26.999745Z",
     "shell.execute_reply.started": "2025-04-23T22:21:26.996315Z"
    },
    "trusted": true
   },
   "outputs": [],
   "source": [
    "best_sampler = study.best_trial.params.get('sampler')\n",
    "best_param = {k: v for k, v in study.best_trial.params.items() if k != 'sampler'}"
   ]
  },
  {
   "cell_type": "code",
   "execution_count": 77,
   "metadata": {
    "execution": {
     "iopub.execute_input": "2025-04-23T22:21:28.824261Z",
     "iopub.status.busy": "2025-04-23T22:21:28.823602Z",
     "iopub.status.idle": "2025-04-23T22:21:28.828143Z",
     "shell.execute_reply": "2025-04-23T22:21:28.827658Z",
     "shell.execute_reply.started": "2025-04-23T22:21:28.824237Z"
    },
    "trusted": true
   },
   "outputs": [
    {
     "data": {
      "text/plain": [
       "'ros'"
      ]
     },
     "execution_count": 77,
     "metadata": {},
     "output_type": "execute_result"
    }
   ],
   "source": [
    "best_sampler"
   ]
  },
  {
   "cell_type": "code",
   "execution_count": 78,
   "metadata": {
    "execution": {
     "iopub.execute_input": "2025-04-23T22:21:30.570963Z",
     "iopub.status.busy": "2025-04-23T22:21:30.570733Z",
     "iopub.status.idle": "2025-04-23T22:21:30.575791Z",
     "shell.execute_reply": "2025-04-23T22:21:30.575213Z",
     "shell.execute_reply.started": "2025-04-23T22:21:30.570945Z"
    },
    "trusted": true
   },
   "outputs": [
    {
     "data": {
      "text/plain": [
       "{'n_estimators': 200,\n",
       " 'max_depth': 10,\n",
       " 'learning_rate': 0.10609394911963685,\n",
       " 'subsample': 0.9937061428620857,\n",
       " 'colsample_bytree': 0.791039998596758,\n",
       " 'scale_pos_weight': 90.10453740110084}"
      ]
     },
     "execution_count": 78,
     "metadata": {},
     "output_type": "execute_result"
    }
   ],
   "source": [
    "best_param"
   ]
  },
  {
   "cell_type": "code",
   "execution_count": 79,
   "metadata": {
    "execution": {
     "iopub.execute_input": "2025-04-23T22:21:31.997790Z",
     "iopub.status.busy": "2025-04-23T22:21:31.997563Z",
     "iopub.status.idle": "2025-04-23T22:21:32.001677Z",
     "shell.execute_reply": "2025-04-23T22:21:32.001103Z",
     "shell.execute_reply.started": "2025-04-23T22:21:31.997773Z"
    },
    "trusted": true
   },
   "outputs": [],
   "source": [
    "sampler = create_sampler(best_sampler)\n",
    "model =  XGBClassifier(**best_param, device='cuda', random_state=42)\n",
    "\n",
    "pipeline = Pipeline([\n",
    "    ('sampler', sampler),\n",
    "    ('classifier', model)\n",
    "])"
   ]
  },
  {
   "cell_type": "code",
   "execution_count": 80,
   "metadata": {
    "execution": {
     "iopub.execute_input": "2025-04-23T22:21:33.021917Z",
     "iopub.status.busy": "2025-04-23T22:21:33.021699Z",
     "iopub.status.idle": "2025-04-23T22:21:35.848479Z",
     "shell.execute_reply": "2025-04-23T22:21:35.847901Z",
     "shell.execute_reply.started": "2025-04-23T22:21:33.021900Z"
    },
    "trusted": true
   },
   "outputs": [
    {
     "data": {
      "text/html": [
       "<style>#sk-container-id-6 {\n",
       "  /* Definition of color scheme common for light and dark mode */\n",
       "  --sklearn-color-text: black;\n",
       "  --sklearn-color-line: gray;\n",
       "  /* Definition of color scheme for unfitted estimators */\n",
       "  --sklearn-color-unfitted-level-0: #fff5e6;\n",
       "  --sklearn-color-unfitted-level-1: #f6e4d2;\n",
       "  --sklearn-color-unfitted-level-2: #ffe0b3;\n",
       "  --sklearn-color-unfitted-level-3: chocolate;\n",
       "  /* Definition of color scheme for fitted estimators */\n",
       "  --sklearn-color-fitted-level-0: #f0f8ff;\n",
       "  --sklearn-color-fitted-level-1: #d4ebff;\n",
       "  --sklearn-color-fitted-level-2: #b3dbfd;\n",
       "  --sklearn-color-fitted-level-3: cornflowerblue;\n",
       "\n",
       "  /* Specific color for light theme */\n",
       "  --sklearn-color-text-on-default-background: var(--sg-text-color, var(--theme-code-foreground, var(--jp-content-font-color1, black)));\n",
       "  --sklearn-color-background: var(--sg-background-color, var(--theme-background, var(--jp-layout-color0, white)));\n",
       "  --sklearn-color-border-box: var(--sg-text-color, var(--theme-code-foreground, var(--jp-content-font-color1, black)));\n",
       "  --sklearn-color-icon: #696969;\n",
       "\n",
       "  @media (prefers-color-scheme: dark) {\n",
       "    /* Redefinition of color scheme for dark theme */\n",
       "    --sklearn-color-text-on-default-background: var(--sg-text-color, var(--theme-code-foreground, var(--jp-content-font-color1, white)));\n",
       "    --sklearn-color-background: var(--sg-background-color, var(--theme-background, var(--jp-layout-color0, #111)));\n",
       "    --sklearn-color-border-box: var(--sg-text-color, var(--theme-code-foreground, var(--jp-content-font-color1, white)));\n",
       "    --sklearn-color-icon: #878787;\n",
       "  }\n",
       "}\n",
       "\n",
       "#sk-container-id-6 {\n",
       "  color: var(--sklearn-color-text);\n",
       "}\n",
       "\n",
       "#sk-container-id-6 pre {\n",
       "  padding: 0;\n",
       "}\n",
       "\n",
       "#sk-container-id-6 input.sk-hidden--visually {\n",
       "  border: 0;\n",
       "  clip: rect(1px 1px 1px 1px);\n",
       "  clip: rect(1px, 1px, 1px, 1px);\n",
       "  height: 1px;\n",
       "  margin: -1px;\n",
       "  overflow: hidden;\n",
       "  padding: 0;\n",
       "  position: absolute;\n",
       "  width: 1px;\n",
       "}\n",
       "\n",
       "#sk-container-id-6 div.sk-dashed-wrapped {\n",
       "  border: 1px dashed var(--sklearn-color-line);\n",
       "  margin: 0 0.4em 0.5em 0.4em;\n",
       "  box-sizing: border-box;\n",
       "  padding-bottom: 0.4em;\n",
       "  background-color: var(--sklearn-color-background);\n",
       "}\n",
       "\n",
       "#sk-container-id-6 div.sk-container {\n",
       "  /* jupyter's `normalize.less` sets `[hidden] { display: none; }`\n",
       "     but bootstrap.min.css set `[hidden] { display: none !important; }`\n",
       "     so we also need the `!important` here to be able to override the\n",
       "     default hidden behavior on the sphinx rendered scikit-learn.org.\n",
       "     See: https://github.com/scikit-learn/scikit-learn/issues/21755 */\n",
       "  display: inline-block !important;\n",
       "  position: relative;\n",
       "}\n",
       "\n",
       "#sk-container-id-6 div.sk-text-repr-fallback {\n",
       "  display: none;\n",
       "}\n",
       "\n",
       "div.sk-parallel-item,\n",
       "div.sk-serial,\n",
       "div.sk-item {\n",
       "  /* draw centered vertical line to link estimators */\n",
       "  background-image: linear-gradient(var(--sklearn-color-text-on-default-background), var(--sklearn-color-text-on-default-background));\n",
       "  background-size: 2px 100%;\n",
       "  background-repeat: no-repeat;\n",
       "  background-position: center center;\n",
       "}\n",
       "\n",
       "/* Parallel-specific style estimator block */\n",
       "\n",
       "#sk-container-id-6 div.sk-parallel-item::after {\n",
       "  content: \"\";\n",
       "  width: 100%;\n",
       "  border-bottom: 2px solid var(--sklearn-color-text-on-default-background);\n",
       "  flex-grow: 1;\n",
       "}\n",
       "\n",
       "#sk-container-id-6 div.sk-parallel {\n",
       "  display: flex;\n",
       "  align-items: stretch;\n",
       "  justify-content: center;\n",
       "  background-color: var(--sklearn-color-background);\n",
       "  position: relative;\n",
       "}\n",
       "\n",
       "#sk-container-id-6 div.sk-parallel-item {\n",
       "  display: flex;\n",
       "  flex-direction: column;\n",
       "}\n",
       "\n",
       "#sk-container-id-6 div.sk-parallel-item:first-child::after {\n",
       "  align-self: flex-end;\n",
       "  width: 50%;\n",
       "}\n",
       "\n",
       "#sk-container-id-6 div.sk-parallel-item:last-child::after {\n",
       "  align-self: flex-start;\n",
       "  width: 50%;\n",
       "}\n",
       "\n",
       "#sk-container-id-6 div.sk-parallel-item:only-child::after {\n",
       "  width: 0;\n",
       "}\n",
       "\n",
       "/* Serial-specific style estimator block */\n",
       "\n",
       "#sk-container-id-6 div.sk-serial {\n",
       "  display: flex;\n",
       "  flex-direction: column;\n",
       "  align-items: center;\n",
       "  background-color: var(--sklearn-color-background);\n",
       "  padding-right: 1em;\n",
       "  padding-left: 1em;\n",
       "}\n",
       "\n",
       "\n",
       "/* Toggleable style: style used for estimator/Pipeline/ColumnTransformer box that is\n",
       "clickable and can be expanded/collapsed.\n",
       "- Pipeline and ColumnTransformer use this feature and define the default style\n",
       "- Estimators will overwrite some part of the style using the `sk-estimator` class\n",
       "*/\n",
       "\n",
       "/* Pipeline and ColumnTransformer style (default) */\n",
       "\n",
       "#sk-container-id-6 div.sk-toggleable {\n",
       "  /* Default theme specific background. It is overwritten whether we have a\n",
       "  specific estimator or a Pipeline/ColumnTransformer */\n",
       "  background-color: var(--sklearn-color-background);\n",
       "}\n",
       "\n",
       "/* Toggleable label */\n",
       "#sk-container-id-6 label.sk-toggleable__label {\n",
       "  cursor: pointer;\n",
       "  display: block;\n",
       "  width: 100%;\n",
       "  margin-bottom: 0;\n",
       "  padding: 0.5em;\n",
       "  box-sizing: border-box;\n",
       "  text-align: center;\n",
       "}\n",
       "\n",
       "#sk-container-id-6 label.sk-toggleable__label-arrow:before {\n",
       "  /* Arrow on the left of the label */\n",
       "  content: \"▸\";\n",
       "  float: left;\n",
       "  margin-right: 0.25em;\n",
       "  color: var(--sklearn-color-icon);\n",
       "}\n",
       "\n",
       "#sk-container-id-6 label.sk-toggleable__label-arrow:hover:before {\n",
       "  color: var(--sklearn-color-text);\n",
       "}\n",
       "\n",
       "/* Toggleable content - dropdown */\n",
       "\n",
       "#sk-container-id-6 div.sk-toggleable__content {\n",
       "  max-height: 0;\n",
       "  max-width: 0;\n",
       "  overflow: hidden;\n",
       "  text-align: left;\n",
       "  /* unfitted */\n",
       "  background-color: var(--sklearn-color-unfitted-level-0);\n",
       "}\n",
       "\n",
       "#sk-container-id-6 div.sk-toggleable__content.fitted {\n",
       "  /* fitted */\n",
       "  background-color: var(--sklearn-color-fitted-level-0);\n",
       "}\n",
       "\n",
       "#sk-container-id-6 div.sk-toggleable__content pre {\n",
       "  margin: 0.2em;\n",
       "  border-radius: 0.25em;\n",
       "  color: var(--sklearn-color-text);\n",
       "  /* unfitted */\n",
       "  background-color: var(--sklearn-color-unfitted-level-0);\n",
       "}\n",
       "\n",
       "#sk-container-id-6 div.sk-toggleable__content.fitted pre {\n",
       "  /* unfitted */\n",
       "  background-color: var(--sklearn-color-fitted-level-0);\n",
       "}\n",
       "\n",
       "#sk-container-id-6 input.sk-toggleable__control:checked~div.sk-toggleable__content {\n",
       "  /* Expand drop-down */\n",
       "  max-height: 200px;\n",
       "  max-width: 100%;\n",
       "  overflow: auto;\n",
       "}\n",
       "\n",
       "#sk-container-id-6 input.sk-toggleable__control:checked~label.sk-toggleable__label-arrow:before {\n",
       "  content: \"▾\";\n",
       "}\n",
       "\n",
       "/* Pipeline/ColumnTransformer-specific style */\n",
       "\n",
       "#sk-container-id-6 div.sk-label input.sk-toggleable__control:checked~label.sk-toggleable__label {\n",
       "  color: var(--sklearn-color-text);\n",
       "  background-color: var(--sklearn-color-unfitted-level-2);\n",
       "}\n",
       "\n",
       "#sk-container-id-6 div.sk-label.fitted input.sk-toggleable__control:checked~label.sk-toggleable__label {\n",
       "  background-color: var(--sklearn-color-fitted-level-2);\n",
       "}\n",
       "\n",
       "/* Estimator-specific style */\n",
       "\n",
       "/* Colorize estimator box */\n",
       "#sk-container-id-6 div.sk-estimator input.sk-toggleable__control:checked~label.sk-toggleable__label {\n",
       "  /* unfitted */\n",
       "  background-color: var(--sklearn-color-unfitted-level-2);\n",
       "}\n",
       "\n",
       "#sk-container-id-6 div.sk-estimator.fitted input.sk-toggleable__control:checked~label.sk-toggleable__label {\n",
       "  /* fitted */\n",
       "  background-color: var(--sklearn-color-fitted-level-2);\n",
       "}\n",
       "\n",
       "#sk-container-id-6 div.sk-label label.sk-toggleable__label,\n",
       "#sk-container-id-6 div.sk-label label {\n",
       "  /* The background is the default theme color */\n",
       "  color: var(--sklearn-color-text-on-default-background);\n",
       "}\n",
       "\n",
       "/* On hover, darken the color of the background */\n",
       "#sk-container-id-6 div.sk-label:hover label.sk-toggleable__label {\n",
       "  color: var(--sklearn-color-text);\n",
       "  background-color: var(--sklearn-color-unfitted-level-2);\n",
       "}\n",
       "\n",
       "/* Label box, darken color on hover, fitted */\n",
       "#sk-container-id-6 div.sk-label.fitted:hover label.sk-toggleable__label.fitted {\n",
       "  color: var(--sklearn-color-text);\n",
       "  background-color: var(--sklearn-color-fitted-level-2);\n",
       "}\n",
       "\n",
       "/* Estimator label */\n",
       "\n",
       "#sk-container-id-6 div.sk-label label {\n",
       "  font-family: monospace;\n",
       "  font-weight: bold;\n",
       "  display: inline-block;\n",
       "  line-height: 1.2em;\n",
       "}\n",
       "\n",
       "#sk-container-id-6 div.sk-label-container {\n",
       "  text-align: center;\n",
       "}\n",
       "\n",
       "/* Estimator-specific */\n",
       "#sk-container-id-6 div.sk-estimator {\n",
       "  font-family: monospace;\n",
       "  border: 1px dotted var(--sklearn-color-border-box);\n",
       "  border-radius: 0.25em;\n",
       "  box-sizing: border-box;\n",
       "  margin-bottom: 0.5em;\n",
       "  /* unfitted */\n",
       "  background-color: var(--sklearn-color-unfitted-level-0);\n",
       "}\n",
       "\n",
       "#sk-container-id-6 div.sk-estimator.fitted {\n",
       "  /* fitted */\n",
       "  background-color: var(--sklearn-color-fitted-level-0);\n",
       "}\n",
       "\n",
       "/* on hover */\n",
       "#sk-container-id-6 div.sk-estimator:hover {\n",
       "  /* unfitted */\n",
       "  background-color: var(--sklearn-color-unfitted-level-2);\n",
       "}\n",
       "\n",
       "#sk-container-id-6 div.sk-estimator.fitted:hover {\n",
       "  /* fitted */\n",
       "  background-color: var(--sklearn-color-fitted-level-2);\n",
       "}\n",
       "\n",
       "/* Specification for estimator info (e.g. \"i\" and \"?\") */\n",
       "\n",
       "/* Common style for \"i\" and \"?\" */\n",
       "\n",
       ".sk-estimator-doc-link,\n",
       "a:link.sk-estimator-doc-link,\n",
       "a:visited.sk-estimator-doc-link {\n",
       "  float: right;\n",
       "  font-size: smaller;\n",
       "  line-height: 1em;\n",
       "  font-family: monospace;\n",
       "  background-color: var(--sklearn-color-background);\n",
       "  border-radius: 1em;\n",
       "  height: 1em;\n",
       "  width: 1em;\n",
       "  text-decoration: none !important;\n",
       "  margin-left: 1ex;\n",
       "  /* unfitted */\n",
       "  border: var(--sklearn-color-unfitted-level-1) 1pt solid;\n",
       "  color: var(--sklearn-color-unfitted-level-1);\n",
       "}\n",
       "\n",
       ".sk-estimator-doc-link.fitted,\n",
       "a:link.sk-estimator-doc-link.fitted,\n",
       "a:visited.sk-estimator-doc-link.fitted {\n",
       "  /* fitted */\n",
       "  border: var(--sklearn-color-fitted-level-1) 1pt solid;\n",
       "  color: var(--sklearn-color-fitted-level-1);\n",
       "}\n",
       "\n",
       "/* On hover */\n",
       "div.sk-estimator:hover .sk-estimator-doc-link:hover,\n",
       ".sk-estimator-doc-link:hover,\n",
       "div.sk-label-container:hover .sk-estimator-doc-link:hover,\n",
       ".sk-estimator-doc-link:hover {\n",
       "  /* unfitted */\n",
       "  background-color: var(--sklearn-color-unfitted-level-3);\n",
       "  color: var(--sklearn-color-background);\n",
       "  text-decoration: none;\n",
       "}\n",
       "\n",
       "div.sk-estimator.fitted:hover .sk-estimator-doc-link.fitted:hover,\n",
       ".sk-estimator-doc-link.fitted:hover,\n",
       "div.sk-label-container:hover .sk-estimator-doc-link.fitted:hover,\n",
       ".sk-estimator-doc-link.fitted:hover {\n",
       "  /* fitted */\n",
       "  background-color: var(--sklearn-color-fitted-level-3);\n",
       "  color: var(--sklearn-color-background);\n",
       "  text-decoration: none;\n",
       "}\n",
       "\n",
       "/* Span, style for the box shown on hovering the info icon */\n",
       ".sk-estimator-doc-link span {\n",
       "  display: none;\n",
       "  z-index: 9999;\n",
       "  position: relative;\n",
       "  font-weight: normal;\n",
       "  right: .2ex;\n",
       "  padding: .5ex;\n",
       "  margin: .5ex;\n",
       "  width: min-content;\n",
       "  min-width: 20ex;\n",
       "  max-width: 50ex;\n",
       "  color: var(--sklearn-color-text);\n",
       "  box-shadow: 2pt 2pt 4pt #999;\n",
       "  /* unfitted */\n",
       "  background: var(--sklearn-color-unfitted-level-0);\n",
       "  border: .5pt solid var(--sklearn-color-unfitted-level-3);\n",
       "}\n",
       "\n",
       ".sk-estimator-doc-link.fitted span {\n",
       "  /* fitted */\n",
       "  background: var(--sklearn-color-fitted-level-0);\n",
       "  border: var(--sklearn-color-fitted-level-3);\n",
       "}\n",
       "\n",
       ".sk-estimator-doc-link:hover span {\n",
       "  display: block;\n",
       "}\n",
       "\n",
       "/* \"?\"-specific style due to the `<a>` HTML tag */\n",
       "\n",
       "#sk-container-id-6 a.estimator_doc_link {\n",
       "  float: right;\n",
       "  font-size: 1rem;\n",
       "  line-height: 1em;\n",
       "  font-family: monospace;\n",
       "  background-color: var(--sklearn-color-background);\n",
       "  border-radius: 1rem;\n",
       "  height: 1rem;\n",
       "  width: 1rem;\n",
       "  text-decoration: none;\n",
       "  /* unfitted */\n",
       "  color: var(--sklearn-color-unfitted-level-1);\n",
       "  border: var(--sklearn-color-unfitted-level-1) 1pt solid;\n",
       "}\n",
       "\n",
       "#sk-container-id-6 a.estimator_doc_link.fitted {\n",
       "  /* fitted */\n",
       "  border: var(--sklearn-color-fitted-level-1) 1pt solid;\n",
       "  color: var(--sklearn-color-fitted-level-1);\n",
       "}\n",
       "\n",
       "/* On hover */\n",
       "#sk-container-id-6 a.estimator_doc_link:hover {\n",
       "  /* unfitted */\n",
       "  background-color: var(--sklearn-color-unfitted-level-3);\n",
       "  color: var(--sklearn-color-background);\n",
       "  text-decoration: none;\n",
       "}\n",
       "\n",
       "#sk-container-id-6 a.estimator_doc_link.fitted:hover {\n",
       "  /* fitted */\n",
       "  background-color: var(--sklearn-color-fitted-level-3);\n",
       "}\n",
       "</style><div id=\"sk-container-id-6\" class=\"sk-top-container\"><div class=\"sk-text-repr-fallback\"><pre>Pipeline(steps=[(&#x27;sampler&#x27;, RandomOverSampler()),\n",
       "                (&#x27;classifier&#x27;,\n",
       "                 XGBClassifier(base_score=None, booster=None, callbacks=None,\n",
       "                               colsample_bylevel=None, colsample_bynode=None,\n",
       "                               colsample_bytree=0.791039998596758,\n",
       "                               device=&#x27;cuda&#x27;, early_stopping_rounds=None,\n",
       "                               enable_categorical=False, eval_metric=None,\n",
       "                               feature_types=None, gamma=None, grow_policy=None,\n",
       "                               importance_type=None,\n",
       "                               interaction_constraints=None,\n",
       "                               learning_rate=0.10609394911963685, max_bin=None,\n",
       "                               max_cat_threshold=None, max_cat_to_onehot=None,\n",
       "                               max_delta_step=None, max_depth=10,\n",
       "                               max_leaves=None, min_child_weight=None,\n",
       "                               missing=nan, monotone_constraints=None,\n",
       "                               multi_strategy=None, n_estimators=200,\n",
       "                               n_jobs=None, num_parallel_tree=None,\n",
       "                               random_state=42, ...))])</pre><b>In a Jupyter environment, please rerun this cell to show the HTML representation or trust the notebook. <br />On GitHub, the HTML representation is unable to render, please try loading this page with nbviewer.org.</b></div><div class=\"sk-container\" hidden><div class=\"sk-item sk-dashed-wrapped\"><div class=\"sk-label-container\"><div class=\"sk-label fitted sk-toggleable\"><input class=\"sk-toggleable__control sk-hidden--visually\" id=\"sk-estimator-id-16\" type=\"checkbox\" ><label for=\"sk-estimator-id-16\" class=\"sk-toggleable__label fitted sk-toggleable__label-arrow fitted\">&nbsp;Pipeline<span class=\"sk-estimator-doc-link fitted\">i<span>Fitted</span></span></label><div class=\"sk-toggleable__content fitted\"><pre>Pipeline(steps=[(&#x27;sampler&#x27;, RandomOverSampler()),\n",
       "                (&#x27;classifier&#x27;,\n",
       "                 XGBClassifier(base_score=None, booster=None, callbacks=None,\n",
       "                               colsample_bylevel=None, colsample_bynode=None,\n",
       "                               colsample_bytree=0.791039998596758,\n",
       "                               device=&#x27;cuda&#x27;, early_stopping_rounds=None,\n",
       "                               enable_categorical=False, eval_metric=None,\n",
       "                               feature_types=None, gamma=None, grow_policy=None,\n",
       "                               importance_type=None,\n",
       "                               interaction_constraints=None,\n",
       "                               learning_rate=0.10609394911963685, max_bin=None,\n",
       "                               max_cat_threshold=None, max_cat_to_onehot=None,\n",
       "                               max_delta_step=None, max_depth=10,\n",
       "                               max_leaves=None, min_child_weight=None,\n",
       "                               missing=nan, monotone_constraints=None,\n",
       "                               multi_strategy=None, n_estimators=200,\n",
       "                               n_jobs=None, num_parallel_tree=None,\n",
       "                               random_state=42, ...))])</pre></div> </div></div><div class=\"sk-serial\"><div class=\"sk-item\"><div class=\"sk-estimator fitted sk-toggleable\"><input class=\"sk-toggleable__control sk-hidden--visually\" id=\"sk-estimator-id-17\" type=\"checkbox\" ><label for=\"sk-estimator-id-17\" class=\"sk-toggleable__label fitted sk-toggleable__label-arrow fitted\">RandomOverSampler</label><div class=\"sk-toggleable__content fitted\"><pre>RandomOverSampler()</pre></div> </div></div><div class=\"sk-item\"><div class=\"sk-estimator fitted sk-toggleable\"><input class=\"sk-toggleable__control sk-hidden--visually\" id=\"sk-estimator-id-18\" type=\"checkbox\" ><label for=\"sk-estimator-id-18\" class=\"sk-toggleable__label fitted sk-toggleable__label-arrow fitted\">XGBClassifier</label><div class=\"sk-toggleable__content fitted\"><pre>XGBClassifier(base_score=None, booster=None, callbacks=None,\n",
       "              colsample_bylevel=None, colsample_bynode=None,\n",
       "              colsample_bytree=0.791039998596758, device=&#x27;cuda&#x27;,\n",
       "              early_stopping_rounds=None, enable_categorical=False,\n",
       "              eval_metric=None, feature_types=None, gamma=None,\n",
       "              grow_policy=None, importance_type=None,\n",
       "              interaction_constraints=None, learning_rate=0.10609394911963685,\n",
       "              max_bin=None, max_cat_threshold=None, max_cat_to_onehot=None,\n",
       "              max_delta_step=None, max_depth=10, max_leaves=None,\n",
       "              min_child_weight=None, missing=nan, monotone_constraints=None,\n",
       "              multi_strategy=None, n_estimators=200, n_jobs=None,\n",
       "              num_parallel_tree=None, random_state=42, ...)</pre></div> </div></div></div></div></div></div>"
      ],
      "text/plain": [
       "Pipeline(steps=[('sampler', RandomOverSampler()),\n",
       "                ('classifier',\n",
       "                 XGBClassifier(base_score=None, booster=None, callbacks=None,\n",
       "                               colsample_bylevel=None, colsample_bynode=None,\n",
       "                               colsample_bytree=0.791039998596758,\n",
       "                               device='cuda', early_stopping_rounds=None,\n",
       "                               enable_categorical=False, eval_metric=None,\n",
       "                               feature_types=None, gamma=None, grow_policy=None,\n",
       "                               importance_type=None,\n",
       "                               interaction_constraints=None,\n",
       "                               learning_rate=0.10609394911963685, max_bin=None,\n",
       "                               max_cat_threshold=None, max_cat_to_onehot=None,\n",
       "                               max_delta_step=None, max_depth=10,\n",
       "                               max_leaves=None, min_child_weight=None,\n",
       "                               missing=nan, monotone_constraints=None,\n",
       "                               multi_strategy=None, n_estimators=200,\n",
       "                               n_jobs=None, num_parallel_tree=None,\n",
       "                               random_state=42, ...))])"
      ]
     },
     "execution_count": 80,
     "metadata": {},
     "output_type": "execute_result"
    }
   ],
   "source": [
    "pipeline.fit(X_train, y_train)"
   ]
  },
  {
   "cell_type": "code",
   "execution_count": 81,
   "metadata": {
    "execution": {
     "iopub.execute_input": "2025-04-23T22:21:35.850020Z",
     "iopub.status.busy": "2025-04-23T22:21:35.849575Z",
     "iopub.status.idle": "2025-04-23T22:21:36.055261Z",
     "shell.execute_reply": "2025-04-23T22:21:36.054685Z",
     "shell.execute_reply.started": "2025-04-23T22:21:35.850002Z"
    },
    "trusted": true
   },
   "outputs": [
    {
     "name": "stdout",
     "output_type": "stream",
     "text": [
      "[[84959    17]\n",
      " [   31   111]]\n",
      "\n"
     ]
    },
    {
     "data": {
      "text/html": [
       "<div>\n",
       "<style scoped>\n",
       "    .dataframe tbody tr th:only-of-type {\n",
       "        vertical-align: middle;\n",
       "    }\n",
       "\n",
       "    .dataframe tbody tr th {\n",
       "        vertical-align: top;\n",
       "    }\n",
       "\n",
       "    .dataframe thead th {\n",
       "        text-align: right;\n",
       "    }\n",
       "</style>\n",
       "<table border=\"1\" class=\"dataframe\">\n",
       "  <thead>\n",
       "    <tr style=\"text-align: right;\">\n",
       "      <th></th>\n",
       "      <th>XGBoost with</th>\n",
       "      <th>Recall</th>\n",
       "      <th>Precision</th>\n",
       "      <th>F1 Score</th>\n",
       "      <th>Accuracy</th>\n",
       "    </tr>\n",
       "  </thead>\n",
       "  <tbody>\n",
       "    <tr>\n",
       "      <th>0</th>\n",
       "      <td>ros</td>\n",
       "      <td>0.78169</td>\n",
       "      <td>0.867188</td>\n",
       "      <td>0.822222</td>\n",
       "      <td>0.999436</td>\n",
       "    </tr>\n",
       "  </tbody>\n",
       "</table>\n",
       "</div>"
      ],
      "text/plain": [
       "  XGBoost with   Recall  Precision  F1 Score  Accuracy\n",
       "0          ros  0.78169   0.867188  0.822222  0.999436"
      ]
     },
     "execution_count": 81,
     "metadata": {},
     "output_type": "execute_result"
    }
   ],
   "source": [
    "y_pred = pipeline.predict(X_test)\n",
    "\n",
    "cm = confusion_matrix(y_test, y_pred)\n",
    "recall = recall_score(y_test, y_pred, zero_division=0)\n",
    "precision = precision_score(y_test, y_pred, zero_division=0)\n",
    "f1 = f1_score(y_test, y_pred, zero_division=0)\n",
    "accuracy = accuracy_score(y_test, y_pred)\n",
    "\n",
    "print(f'{cm}\\n')\n",
    "\n",
    "df = [(recall, precision, f1, accuracy)]\n",
    "\n",
    "score = pd.DataFrame(df, columns=['Recall', 'Precision', 'F1 Score', 'Accuracy'])\n",
    "score.insert(0, 'XGBoost with', best_sampler)\n",
    "\n",
    "score"
   ]
  },
  {
   "cell_type": "code",
   "execution_count": null,
   "metadata": {
    "execution": {
     "iopub.execute_input": "2025-04-23T22:23:53.209719Z",
     "iopub.status.busy": "2025-04-23T22:23:53.209132Z",
     "iopub.status.idle": "2025-04-23T22:23:53.213069Z",
     "shell.execute_reply": "2025-04-23T22:23:53.212510Z",
     "shell.execute_reply.started": "2025-04-23T22:23:53.209695Z"
    },
    "trusted": true
   },
   "outputs": [],
   "source": [
    "trained_model = pipeline.named_steps['classifier']"
   ]
  },
  {
   "cell_type": "code",
   "execution_count": null,
   "metadata": {
    "execution": {
     "iopub.execute_input": "2025-04-23T22:25:44.575053Z",
     "iopub.status.busy": "2025-04-23T22:25:44.574548Z",
     "iopub.status.idle": "2025-04-23T22:25:44.583273Z",
     "shell.execute_reply": "2025-04-23T22:25:44.582759Z",
     "shell.execute_reply.started": "2025-04-23T22:25:44.575031Z"
    },
    "trusted": true
   },
   "outputs": [],
   "source": [
    "with open('trained_model_xgboost_ros.pkl', 'wb') as f:\n",
    "    pickle.dump(trained_model, f)"
   ]
  }
 ],
 "metadata": {
  "kaggle": {
   "accelerator": "nvidiaTeslaT4",
   "dataSources": [
    {
     "datasetId": 310,
     "sourceId": 23498,
     "sourceType": "datasetVersion"
    }
   ],
   "dockerImageVersionId": 31011,
   "isGpuEnabled": true,
   "isInternetEnabled": true,
   "language": "python",
   "sourceType": "notebook"
  },
  "kernelspec": {
   "display_name": "Python 3",
   "language": "python",
   "name": "python3"
  },
  "language_info": {
   "codemirror_mode": {
    "name": "ipython",
    "version": 3
   },
   "file_extension": ".py",
   "mimetype": "text/x-python",
   "name": "python",
   "nbconvert_exporter": "python",
   "pygments_lexer": "ipython3",
   "version": "3.11.11"
  }
 },
 "nbformat": 4,
 "nbformat_minor": 4
}
